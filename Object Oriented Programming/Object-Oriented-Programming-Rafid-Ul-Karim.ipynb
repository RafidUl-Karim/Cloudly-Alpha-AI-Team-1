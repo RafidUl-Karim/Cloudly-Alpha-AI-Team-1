{
  "nbformat": 4,
  "nbformat_minor": 5,
  "metadata": {
    "kernelspec": {
      "display_name": "Python 3",
      "language": "python",
      "name": "python3"
    },
    "language_info": {
      "codemirror_mode": {
        "name": "ipython",
        "version": 3
      },
      "file_extension": ".py",
      "mimetype": "text/x-python",
      "name": "python",
      "nbconvert_exporter": "python",
      "pygments_lexer": "ipython3",
      "version": "3.9.7"
    },
    "colab": {
      "provenance": []
    }
  },
  "cells": [
    {
      "cell_type": "markdown",
      "metadata": {
        "id": "HRSYGSPdn81R"
      },
      "source": [
        "# Object-Oriented Programming (OOP) in Python\n"
      ],
      "id": "HRSYGSPdn81R"
    },
    {
      "cell_type": "markdown",
      "metadata": {
        "id": "ZzT0V-zjn81T"
      },
      "source": [
        "### **What is OOP?**\n",
        "*Object-Oriented Programming (OOP)* is a programming paradigm that groups related functions and variables under a single unit known as *Classes* and *Objects* to streamline the coding experience and mitigate \"Spaghetti Code\".\n",
        "\n",
        "- **Class**: A template for creating *Objects*, defined by *Properties* and *Methods*.\n",
        "- **Object**: An instance of a *Class*. A single *Class* may have multiple *Objects*.\n",
        "- **Properties**: Variables belonging to an *Object*.\n",
        "- **Methods**: Functions belonging to an *Object*.\n",
        "\n",
        "**Important**: *Methods* are superior to typical functions because they operate on the *Properties* of the *Object*, reducing the need for passing many parameters. This makes the code easier to maintain and use.\n",
        "\n",
        "**Constructor**: A special *Method* used to ensure *Objects* initialize with valid values (`__init__` in Python)."
      ],
      "id": "ZzT0V-zjn81T"
    },
    {
      "cell_type": "markdown",
      "source": [
        "**Example:**"
      ],
      "metadata": {
        "id": "-vEkVRrXoTz_"
      },
      "id": "-vEkVRrXoTz_"
    },
    {
      "cell_type": "code",
      "source": [
        "# Class\n",
        "class Employee:\n",
        "    def __init__(self, base_salary, overtime, rate):\n",
        "        # Properties\n",
        "        self.base_salary = base_salary\n",
        "        self.overtime = overtime\n",
        "        self.rate = rate\n",
        "\n",
        "    # Method\n",
        "    def get_wage(self):\n",
        "        return self.base_salary + (self.overtime * self.rate)\n",
        "\n",
        "\n",
        "# Object\n",
        "emp1 = Employee(base_salary=30000, overtime=10, rate=20)\n",
        "\n",
        "# Method call\n",
        "print(emp1.get_wage())\n"
      ],
      "metadata": {
        "colab": {
          "base_uri": "https://localhost:8080/"
        },
        "id": "qSXAx7mPoR8O",
        "outputId": "6e1a28e8-2a85-4330-eb91-f176f01164b5"
      },
      "id": "qSXAx7mPoR8O",
      "execution_count": null,
      "outputs": [
        {
          "output_type": "stream",
          "name": "stdout",
          "text": [
            "30200\n"
          ]
        }
      ]
    },
    {
      "cell_type": "markdown",
      "source": [
        "###Class and Static Methods\n",
        "**Types of methods:**\n",
        "\n",
        "\n",
        "1.   **Instance methods** (with `self`) to access or modify object state.\n",
        "2.   **Class methods** (with `@classmethod`) to work with class-level data.\n",
        "3. **Static methods** (with `@staticmethod`) when no object or class data is needed.\n",
        "\n"
      ],
      "metadata": {
        "id": "QrkoTpF69yt8"
      },
      "id": "QrkoTpF69yt8"
    },
    {
      "cell_type": "code",
      "source": [
        "class Example:\n",
        "    count = 0  # Class attribute\n",
        "\n",
        "    def __init__(self, value):\n",
        "        self.value = value  # 'self' accesses instance attribute 'value'\n",
        "\n",
        "    def instance_method(self):\n",
        "        # Can access both instance and class data\n",
        "        return f\"Value: {self.value}, Count: {Example.count}\"\n",
        "\n",
        "    @classmethod\n",
        "    def class_method(cls): #Use 'clas' to access class attribute 'count'\n",
        "        # Accesses or modifies class-level data\n",
        "        cls.count += 1\n",
        "        return f\"Count updated to: {cls.count}\" # Called from the class itself\n",
        "\n",
        "    @staticmethod\n",
        "    def static_method(x, y):\n",
        "        # Does not access class or instance data\n",
        "        return x + y\n",
        "\n",
        "ex = Example(10) # Create an instance\n",
        "print(ex.instance_method()) # Call on an instance\n",
        "print(Example.class_method())\n",
        "print(Example.static_method(3, 4)) # Call without creating an instance"
      ],
      "metadata": {
        "colab": {
          "base_uri": "https://localhost:8080/"
        },
        "id": "fddymOb59vxr",
        "outputId": "c587a285-3a66-4d23-c6db-25a944ebd7ea"
      },
      "id": "fddymOb59vxr",
      "execution_count": 7,
      "outputs": [
        {
          "output_type": "stream",
          "name": "stdout",
          "text": [
            "Value: 10, Count: 0\n",
            "Count updated to: 1\n",
            "7\n"
          ]
        }
      ]
    },
    {
      "cell_type": "markdown",
      "metadata": {
        "id": "DYnidhL0n81U"
      },
      "source": [
        "### **The Four Pillars of OOP**"
      ],
      "id": "DYnidhL0n81U"
    },
    {
      "cell_type": "markdown",
      "metadata": {
        "id": "hdXgoj84n81U"
      },
      "source": [
        "#### 1. **Encapsulation**\n",
        "Encapsulation is the grouping of *Variables* and *Methods* into one unit (*Class*) without granting direct access to them. It reduces complexity, increases scalability and reusability, and keeps information safe.\n",
        "\n",
        "- **Public**: Gives unrestricted access to all *Methods* and *Properties*, allowing them to be manipulated from anywhere. This is the default in Python.\n",
        "- **Protected**: Grants access to *Methods* and *Properties* only within the *Class* and its subclasses. Uses a single underscore (`_`) to indicate protected members (e.g., `_variable`).\n",
        "- **Private**: Access is restricted to the *Class* itself. Cannot be accessed or modified directly, even by subclasses. Uses double underscores (`__`) to indicate private members (e.g., `__variable`). Private members can only be accessed or modified using getter and setter *Methods*."
      ],
      "id": "hdXgoj84n81U"
    },
    {
      "cell_type": "code",
      "execution_count": null,
      "metadata": {
        "colab": {
          "base_uri": "https://localhost:8080/"
        },
        "id": "ibrEmHyJn81V",
        "outputId": "fa12bf89-fb53-45a7-bbab-78ff3dc698bf"
      },
      "outputs": [
        {
          "output_type": "stream",
          "name": "stdout",
          "text": [
            "Female\n",
            "Name: Alice, Age: 30\n",
            "Alicia\n"
          ]
        }
      ],
      "source": [
        "class Person:\n",
        "    def __init__(self, name, age, gender):\n",
        "        self.__name = name  # Private *Property*\n",
        "        self._age = age     # Protected *Property*\n",
        "        self.gender = gender # Public *Property*\n",
        "\n",
        "    # Getter *Method*\n",
        "    def get_name(self):\n",
        "        return self.__name\n",
        "\n",
        "    # Setter *Method*\n",
        "    def set_name(self, new_name):\n",
        "        if isinstance(new_name, str):\n",
        "            self.__name = new_name\n",
        "\n",
        "    # Public *Method*\n",
        "    def display_info(self):\n",
        "        print(f\"Name: {self.__name}, Age: {self._age}\")\n",
        "\n",
        "person1 = Person(\"Alice\", 30, \"Female\")\n",
        "print(person1.gender) # Acessible\n",
        "# print(person1.name) # Not Accessible\n",
        "person1.display_info()  # Accessible by public method\n",
        "person1.set_name(\"Alicia\")\n",
        "print(person1.get_name())  # Accessible only using getter"
      ],
      "id": "ibrEmHyJn81V"
    },
    {
      "cell_type": "markdown",
      "metadata": {
        "id": "UT4xKfUVn81V"
      },
      "source": [
        "#### 2. **Abstraction**\n",
        "Abstraction hides the internal details of a *Class* and exposes only the necessary *Features*, simplifying the interface and reducing the impact of changes"
      ],
      "id": "UT4xKfUVn81V"
    },
    {
      "cell_type": "code",
      "execution_count": 1,
      "metadata": {
        "colab": {
          "base_uri": "https://localhost:8080/"
        },
        "id": "Njz6ElLin81V",
        "outputId": "2ab47ed5-3b38-4dc4-ffe3-d302f99b5ba3"
      },
      "outputs": [
        {
          "output_type": "stream",
          "name": "stdout",
          "text": [
            "24\n",
            "78.5\n"
          ]
        }
      ],
      "source": [
        "from abc import ABC, abstractmethod\n",
        "\n",
        "class Shape(ABC):  # Abstract *Model*\n",
        "    @abstractmethod\n",
        "    def area(self):  # Abstract *Method*\n",
        "        pass\n",
        "\n",
        "class Circle(Shape):  # Subclass *Model*\n",
        "    def __init__(self, radius):\n",
        "        self.radius = radius  # *Property*\n",
        "\n",
        "    def area(self):  # Implementing *Method*\n",
        "        return 3.14 * self.radius ** 2\n",
        "\n",
        "class Rectangle(Shape):  # Another Subclass\n",
        "    def __init__(self, width, height):\n",
        "        self.width = width\n",
        "        self.height = height\n",
        "\n",
        "    def area(self):\n",
        "        return self.width * self.height\n",
        "\n",
        "circle = Circle(5)\n",
        "rectangle = Rectangle(4, 6)\n",
        "\n",
        "print(rectangle.area())\n",
        "print(circle.area())"
      ],
      "id": "Njz6ElLin81V"
    },
    {
      "cell_type": "markdown",
      "metadata": {
        "id": "WfaOy-dQn81W"
      },
      "source": [
        "#### 3. **Inheritance**\n",
        "Inheritance allows a *Class* to inherit *Properties* and *Methods* from another *Class*. This promotes code reuse and reduces redundancy.\n"
      ],
      "id": "WfaOy-dQn81W"
    },
    {
      "cell_type": "code",
      "execution_count": null,
      "metadata": {
        "colab": {
          "base_uri": "https://localhost:8080/"
        },
        "id": "1Xy1MnN2n81W",
        "outputId": "78acbe91-dd6a-479a-935b-31a30c6e7b09"
      },
      "outputs": [
        {
          "output_type": "stream",
          "name": "stdout",
          "text": [
            "Buddy says Woof!\n",
            "Whiskers says Meow!\n"
          ]
        }
      ],
      "source": [
        "# Parent Class\n",
        "class Animal:\n",
        "    def __init__(self, name):\n",
        "        self.name = name\n",
        "\n",
        "    def speak(self):\n",
        "        raise NotImplementedError(\"Subclasses must implement this method.\")\n",
        "\n",
        "# Sub-class\n",
        "class Dog(Animal):\n",
        "    def speak(self):\n",
        "        return f\"{self.name} says Woof!\"\n",
        "\n",
        "class Cat(Animal):\n",
        "    def speak(self):\n",
        "        return f\"{self.name} says Meow!\"\n",
        "\n",
        "# Using the inheritance structure:\n",
        "dog = Dog(\"Buddy\")\n",
        "cat = Cat(\"Whiskers\")\n",
        "print(dog.speak())\n",
        "print(cat.speak())\n"
      ],
      "id": "1Xy1MnN2n81W"
    },
    {
      "cell_type": "markdown",
      "source": [
        "###3.1 **Composition**\n",
        "Composition is a design principle where you build *classes* by combining *objects*, rather than using deep inheritance hierarchies. This approach can provide more flexibility and reduce complexity by allowing behaviors to be reused across different classes without rigid parent-child relationships.\n"
      ],
      "metadata": {
        "id": "OlonP4Dl20EB"
      },
      "id": "OlonP4Dl20EB"
    },
    {
      "cell_type": "code",
      "source": [
        "# Usinhg inheritance to design a robot that can have different movement types\n",
        "class Robot:\n",
        "    def move(self):\n",
        "        pass\n",
        "\n",
        "class WalkingRobot(Robot):\n",
        "    def move(self):\n",
        "        return \"I am walking.\"\n",
        "\n",
        "class FlyingRobot(Robot):\n",
        "    def move(self):\n",
        "        return \"I am flying.\"\n",
        "\n",
        "print(WalkingRobot().move())\n",
        "print(FlyingRobot().move())\n",
        "\n",
        "# If we later want a robot that can switch between walking and flying,\n",
        "# we would need to create a whole new subclass, leading to rigid design."
      ],
      "metadata": {
        "colab": {
          "base_uri": "https://localhost:8080/"
        },
        "id": "_6fyZ7dx0mXp",
        "outputId": "e001f383-7cc2-45db-c1df-ec293a6d2209"
      },
      "id": "_6fyZ7dx0mXp",
      "execution_count": 5,
      "outputs": [
        {
          "output_type": "stream",
          "name": "stdout",
          "text": [
            "I am walking.\n",
            "I am flying.\n"
          ]
        }
      ]
    },
    {
      "cell_type": "code",
      "source": [
        "# Movement behaviors are separate from the Robot class\n",
        "class Walking:\n",
        "    def move(self):\n",
        "        return \"I am walking.\"\n",
        "\n",
        "class Flying:\n",
        "    def move(self):\n",
        "        return \"I am flying.\"\n",
        "\n",
        "class Robot:\n",
        "    def __init__(self, movement_behavior):\n",
        "        self.movement_behavior = movement_behavior  # Composed object\n",
        "\n",
        "    def move(self):\n",
        "        return self.movement_behavior.move()\n",
        "\n",
        "    def set_movement(self, new_movement):\n",
        "        self.movement_behavior = new_movement  # Change behavior dynamically\n",
        "\n",
        "# Creating robots with different behaviors (robot class doesn't change)\n",
        "robot = Robot(Walking())\n",
        "print(robot.move())\n",
        "\n",
        "robot.set_movement(Flying())\n",
        "print(robot.move())"
      ],
      "metadata": {
        "colab": {
          "base_uri": "https://localhost:8080/"
        },
        "id": "8dZzQyvz66ka",
        "outputId": "97ebf944-d98f-45ca-d9f0-cc5c0a8a01db"
      },
      "id": "8dZzQyvz66ka",
      "execution_count": 6,
      "outputs": [
        {
          "output_type": "stream",
          "name": "stdout",
          "text": [
            "I am walking.\n",
            "I am flying.\n"
          ]
        }
      ]
    },
    {
      "cell_type": "markdown",
      "source": [
        "###3.1 **Composition**\n",
        "**Use Inheritance:**\n",
        "\n",
        "\n",
        "*   When objects share common behavior that should not change.\n",
        "\n",
        "*   When there is a clear **\"is-a\"** relationship (e.g., a Dog **is a** type of Animal).\n",
        "\n",
        "**Use Composition:**\n",
        "\n",
        "*   When behavior changes frequently and should be flexible.\n",
        "\n",
        "*   When there's a need to combine different functionalities dynamically.\n",
        "\n",
        "*   When there is a clear **\"has-a\"** relationship (e.g., a Robot **has a** movement behavior).\n",
        "\n",
        "\n",
        "\n",
        "\n",
        "\n",
        "\n",
        "\n",
        "\n"
      ],
      "metadata": {
        "id": "wUNHOzNl8HvP"
      },
      "id": "wUNHOzNl8HvP"
    },
    {
      "cell_type": "markdown",
      "metadata": {
        "id": "ElfI2x8Rn81W"
      },
      "source": [
        "#### 4. **Polymorphism**\n",
        "Polymorphism allows a *Method* to behave differently based on the *Object*'s type. It includes **Run-Time** (method overriding) and **Compile-Time** (method overloading).\n",
        "\n",
        "- **Run-Time Polymorphism**: The type of *Object* determines which *Method* to invoke.\n",
        "- **Compile-Time Polymorphism**: Uses a single *Method* with default arguments to handle varying numbers of parameters (similar to traditional overloading)."
      ],
      "id": "ElfI2x8Rn81W"
    },
    {
      "cell_type": "code",
      "execution_count": null,
      "metadata": {
        "colab": {
          "base_uri": "https://localhost:8080/"
        },
        "id": "tPo0qlWfn81W",
        "outputId": "66332e0a-3a7d-4961-e7d8-1bb4074027b6"
      },
      "outputs": [
        {
          "output_type": "stream",
          "name": "stdout",
          "text": [
            "I'm Charlie, a student with ID: S123\n",
            "I'm Dave, a Math teacher.\n"
          ]
        }
      ],
      "source": [
        "class Student(Person):\n",
        "    def __init__(self, name, age, gender, student_id):\n",
        "        super().__init__(name, age, gender)\n",
        "        self.student_id = student_id  # *Property*\n",
        "\n",
        "    def introduce(self):  # Unique *Method*\n",
        "        print(f\"I'm {self.get_name()}, a student with ID: {self.student_id}\")\n",
        "\n",
        "class Teacher(Person):\n",
        "    def __init__(self, name, age, gender, subject):\n",
        "        super().__init__(name, age, gender)\n",
        "        self.subject = subject  # *Property*\n",
        "\n",
        "    def introduce(self):  # Unique *Method*\n",
        "        print(f\"I'm {self.get_name()}, a {self.subject} teacher.\")\n",
        "\n",
        "def person_introduction(obj):  # Common interface\n",
        "    obj.introduce()\n",
        "\n",
        "# Create *Objects*\n",
        "student1 = Student(\"Charlie\", 20, \"Female\", \"S123\")\n",
        "teacher1 = Teacher(\"Dave\", 45, \"Male\", \"Math\")\n",
        "person_introduction(student1)  # Output: I'm Charlie, a student...\n",
        "person_introduction(teacher1)  # Output: I'm Dave, a Math teacher..."
      ],
      "id": "tPo0qlWfn81W"
    },
    {
      "cell_type": "markdown",
      "metadata": {
        "id": "fW3raqEin81W"
      },
      "source": [
        "### **Summary of the Four Pillars**\n",
        "| Pillar         | Description                                                                 | Example                                                                 |\n",
        "|-----------------|-----------------------------------------------------------------------------|-------------------------------------------------------------------------|\n",
        "| **Encapsulation** | Bundles data and restricts access using private/protected modifiers.     | `Person` class with `__name` and `_age`.                               |\n",
        "| **Abstraction**   | Hides complexity via abstract classes/methods.                           | Abstract `Shape` class with `area()` method.                           |\n",
        "| **Inheritance**   | Reuses code through parent-child relationships.                          | `Employee` inheriting from `Person`.                                   |\n",
        "| **Polymorphism**  | Same method behaves differently across objects.                          | `introduce()` in `Student` and `Teacher`.                              |"
      ],
      "id": "fW3raqEin81W"
    },
    {
      "cell_type": "markdown",
      "source": [
        "### **Best Practices for Object-Oriented Programming (OOP) in Python**\n",
        "**1. Follow PEP 8:**\n",
        "   - Use CapWords for class names (e.g., MyClass).\n",
        "   - Use snake_case for methods and variables (e.g., calculate_total).\n",
        "\n",
        "**2. Use Encapsulation:**\n",
        "   - Keep attributes private (__attribute) when necessary.\n",
        "   - Provide getter and setter methods instead of direct access.\n",
        "\n",
        "**3. Prefer Composition Over Inheritance:**\n",
        "   - Use composition for flexibility when behavior changes dynamically.\n",
        "   - Use inheritance only when there's a clear \"is-a\" relationship.\n",
        "\n",
        "**4. Leverage Class and Static Methods:**\n",
        "   - Use @classmethod for modifying class attributes.\n",
        "   - Use @staticmethod for independent utility functions.\n",
        "\n",
        "**5. Write Clear Docstrings:**\n",
        "   - Document classes and methods with \"\"\" triple-quoted \"\"\" docstrings.\n"
      ],
      "metadata": {
        "id": "bpuyTSaOB8Fs"
      },
      "id": "bpuyTSaOB8Fs"
    }
  ]
}