{
  "nbformat": 4,
  "nbformat_minor": 5,
  "metadata": {
    "kernelspec": {
      "display_name": "Python 3",
      "language": "python",
      "name": "python3"
    },
    "language_info": {
      "codemirror_mode": {
        "name": "ipython",
        "version": 3
      },
      "file_extension": ".py",
      "mimetype": "text/x-python",
      "name": "python",
      "nbconvert_exporter": "python",
      "pygments_lexer": "ipython3",
      "version": "3.9.7"
    },
    "colab": {
      "provenance": [],
      "toc_visible": true,
      "collapsed_sections": [
        "ZzT0V-zjn81T",
        "CnvGG2J7ckSt",
        "IBU4ubPgdccE",
        "ZMlX0TpUETqa",
        "gR9__3lRF4wr"
      ]
    }
  },
  "cells": [
    {
      "cell_type": "markdown",
      "metadata": {
        "id": "HRSYGSPdn81R"
      },
      "source": [
        "# Object-Oriented Programming (OOP) in Python\n"
      ],
      "id": "HRSYGSPdn81R"
    },
    {
      "cell_type": "markdown",
      "metadata": {
        "id": "ZzT0V-zjn81T"
      },
      "source": [
        "# **What is OOP?**\n",
        "*Object-Oriented Programming (OOP)* is a programming paradigm that groups related functions and variables under a single unit known as *Classes* and *Objects* to streamline the coding experience and mitigate \"Spaghetti Code\".\n",
        "\n",
        "- **Class**: A template for creating *Objects*, defined by *Properties* and *Methods*.\n",
        "- **Object**: An instance of a *Class*. A single *Class* may have multiple *Objects*.\n",
        "- **Properties**: Variables belonging to an *Object*.\n",
        "- **Methods**: Functions belonging to an *Object*.\n",
        "\n",
        "**Important**: *Methods* are superior to typical functions because they operate on the *Properties* of the *Object*, reducing the need for passing many parameters. This makes the code easier to maintain and use.\n",
        "\n",
        "**Constructor**: A special *Method* used to ensure *Objects* initialize with valid values (`__init__` in Python)."
      ],
      "id": "ZzT0V-zjn81T"
    },
    {
      "cell_type": "markdown",
      "source": [
        "**Example:**"
      ],
      "metadata": {
        "id": "-vEkVRrXoTz_"
      },
      "id": "-vEkVRrXoTz_"
    },
    {
      "cell_type": "code",
      "source": [
        "# Class\n",
        "class Employee:\n",
        "    def __init__(self, base_salary, overtime, rate):\n",
        "        # Properties\n",
        "        self.base_salary = base_salary\n",
        "        self.overtime = overtime\n",
        "        self.rate = rate\n",
        "\n",
        "    # Method\n",
        "    def get_wage(self):\n",
        "        return self.base_salary + (self.overtime * self.rate)\n",
        "\n",
        "\n",
        "# Object\n",
        "emp1 = Employee(base_salary=30000, overtime=10, rate=20)\n",
        "\n",
        "# Method call\n",
        "print(emp1.get_wage())\n"
      ],
      "metadata": {
        "colab": {
          "base_uri": "https://localhost:8080/"
        },
        "id": "qSXAx7mPoR8O",
        "outputId": "1e291927-9a5d-4949-93b1-f69c9bba09e7"
      },
      "id": "qSXAx7mPoR8O",
      "execution_count": 2,
      "outputs": [
        {
          "output_type": "stream",
          "name": "stdout",
          "text": [
            "30200\n"
          ]
        }
      ]
    },
    {
      "cell_type": "markdown",
      "source": [
        "#Class and Object"
      ],
      "metadata": {
        "id": "CnvGG2J7ckSt"
      },
      "id": "CnvGG2J7ckSt"
    },
    {
      "cell_type": "markdown",
      "source": [
        "**A class** is a collection of objects.\n",
        "\n",
        "Classes are **blueprints** for creating objects.\n",
        "\n",
        "A class defines a set of **attributes and methods** that the created objects (instances) can have.\n",
        "\n",
        "* Classes are created by keyword class.\n",
        "* Attributes are the variables that belong to a class.\n",
        "* Attributes are **always public** and can be accessed using the dot (.) operator. Example: Myclass.Myattribute\n",
        "\n",
        "**Object** is an instance of a Class.\n",
        "\n",
        "It represents a specific implementation of the class and holds its own data.\n",
        "\n",
        "***An object consists of:***\n",
        "\n",
        "* **State:** It is represented by the attributes and reflects the properties of an object.\n",
        "* **Behavior:** It is represented by the methods of an object and reflects the response of an object to other objects.\n",
        "* **Identity:** It gives a unique name to an object and enables one object to interact with other objects."
      ],
      "metadata": {
        "id": "3CxMEKBVckhm"
      },
      "id": "3CxMEKBVckhm"
    },
    {
      "cell_type": "markdown",
      "source": [
        "##Types of atributes"
      ],
      "metadata": {
        "id": "iacC7s0Vckux"
      },
      "id": "iacC7s0Vckux"
    },
    {
      "cell_type": "markdown",
      "source": [
        "**Class Variables**\n",
        "* Shared among all instances of a class.\n",
        "* It is defined at the class level, outside the __init__() method.\n",
        "* All objects of the class share the same value for a class variable unless explicitly overridden in an object.\n",
        "\n",
        "**Instance Variables**\n",
        "\n",
        "* Unique to each object and stored using self.attribute_name.\n",
        "* Defined inside the __init__() method.\n",
        "* Each object maintains its own copy of instance variables, independent of other objects."
      ],
      "metadata": {
        "id": "qJ7uGozhck8m"
      },
      "id": "qJ7uGozhck8m"
    },
    {
      "cell_type": "markdown",
      "source": [
        "##Types of Methods in Python Classes\n",
        "methods define the behavior of a class and its objects. There are three main types of methods in a class:\n",
        "\n",
        "* Instance Methods\n",
        "* Class Methods\n",
        "* Static Methods"
      ],
      "metadata": {
        "id": "vDmFHjwodbg2"
      },
      "id": "vDmFHjwodbg2"
    },
    {
      "cell_type": "markdown",
      "source": [
        "###Instance Methods\n",
        "Instance methods operate on instance attributes and require the **self** parameter.\n",
        "\n",
        "**Key Features:**\n",
        "* Works on specific instances of a class.\n",
        "* Can access and modify instance attributes.\n",
        "* The first parameter is always **self**, which refers to the instance calling the method."
      ],
      "metadata": {
        "id": "YXb3CB5tdb0t"
      },
      "id": "YXb3CB5tdb0t"
    },
    {
      "cell_type": "markdown",
      "source": [
        "###Class method\n",
        "Class methods operate on class attributes instead of instance attributes. They are declared using the **@classmethod** decorator and take **cls** as the first parameter instead of **self**.\n",
        "\n",
        "**Key Features:**\n",
        "* Works on the class level, not on a specific instance.\n",
        "* Can access and modify class attributes but **cannot modify instance attributes directly**.\n",
        "* The first parameter is cls, which refers to the class itself."
      ],
      "metadata": {
        "id": "L3cbMeMidcB6"
      },
      "id": "L3cbMeMidcB6"
    },
    {
      "cell_type": "markdown",
      "source": [
        "###Static Methods\n",
        "\n",
        "Static methods are independent utility functions inside a class. \\\n",
        "They do not modify instance or class attributes and do not require self or cls.\n",
        "\n",
        "**Key Features:**\n",
        "* Used for helper functions inside a class.\n",
        "* Does not access instance attributes (**self**) or class attributes (**cls**).\n",
        "* Defined using the **@staticmethod** decorator.\n",
        "* Can be called directly using the class name without creating object."
      ],
      "metadata": {
        "id": "hG9uNbXKdcOX"
      },
      "id": "hG9uNbXKdcOX"
    },
    {
      "cell_type": "markdown",
      "source": [
        "###Implementations of different types of method and atributes"
      ],
      "metadata": {
        "id": "ApztPvlFexWB"
      },
      "id": "ApztPvlFexWB"
    },
    {
      "cell_type": "code",
      "source": [
        "class Example:\n",
        "    count = 0  # Class attribute\n",
        "\n",
        "    def __init__(self, value):\n",
        "        self.value = value  # 'self' accesses instance attribute 'value'\n",
        "\n",
        "    def instance_method(self):\n",
        "        # Can access both instance and class data\n",
        "        return f\"Value: {self.value}, Count: {Example.count}\"\n",
        "\n",
        "    @classmethod\n",
        "    def class_method(cls): #Use 'clas' to access class attribute 'count'\n",
        "        # Accesses or modifies class-level data\n",
        "        cls.count += 1\n",
        "        return f\"Count updated to: {cls.count}\" # Called from the class itself\n",
        "\n",
        "    @staticmethod\n",
        "    def static_method(x, y):\n",
        "        # Does not access class or instance data\n",
        "        return x + y\n",
        "\n",
        "ex = Example(10) # Create an instance\n",
        "print(ex.instance_method()) # Call on an instance\n",
        "print(Example.class_method())\n",
        "print(Example.static_method(3, 4)) # Call without creating an instance"
      ],
      "metadata": {
        "colab": {
          "base_uri": "https://localhost:8080/"
        },
        "id": "yer_dWJJeiKB",
        "outputId": "6fb84ce6-e05c-453f-8c81-ae2d0dde1b72"
      },
      "id": "yer_dWJJeiKB",
      "execution_count": 3,
      "outputs": [
        {
          "output_type": "stream",
          "name": "stdout",
          "text": [
            "Value: 10, Count: 0\n",
            "Count updated to: 1\n",
            "7\n"
          ]
        }
      ]
    },
    {
      "cell_type": "markdown",
      "source": [
        "#Constructor\n",
        "\n",
        "**Constructors** are special class method for creating and initializing an object instance at that class.\n"
      ],
      "metadata": {
        "id": "IBU4ubPgdccE"
      },
      "id": "IBU4ubPgdccE"
    },
    {
      "cell_type": "markdown",
      "source": [
        "## The `__init__` Method in Python\n",
        "\n",
        "- The `__init__` method is a **constructor** in Python.\n",
        "- It is **automatically called** when an object of a class is created.\n",
        "- Its main job is to **initialize (set up)** the object’s attributes with values."
      ],
      "metadata": {
        "id": "VEgt1hDnfKYq"
      },
      "id": "VEgt1hDnfKYq"
    },
    {
      "cell_type": "code",
      "source": [
        "class Student:\n",
        "    def __init__(self, name, roll):\n",
        "        self.name = name       # Instance variable\n",
        "        self.roll = roll\n",
        "\n",
        "    def display(self):\n",
        "        print(f\"Name: {self.name}, Roll: {self.roll}\")\n",
        "\n",
        "# Creating object\n",
        "s1 = Student(\"Alice\", 101)\n",
        "s1.display()  # Output: Name: Alice, Roll: 101\n"
      ],
      "metadata": {
        "colab": {
          "base_uri": "https://localhost:8080/"
        },
        "id": "0wricb_SfXD9",
        "outputId": "03073f4d-b8ae-444a-a75a-f63801c0fc51"
      },
      "id": "0wricb_SfXD9",
      "execution_count": 4,
      "outputs": [
        {
          "output_type": "stream",
          "name": "stdout",
          "text": [
            "Name: Alice, Roll: 101\n"
          ]
        }
      ]
    },
    {
      "cell_type": "markdown",
      "source": [
        "##Default constructor"
      ],
      "metadata": {
        "id": "EowwNDB9fKiD"
      },
      "id": "EowwNDB9fKiD"
    },
    {
      "cell_type": "markdown",
      "source": [
        "A default constructor is automatically created by Python when no\n",
        "`__init__` method is explicitly defined in a class. It does not initialize any object attributes or perform any setup—it simply allows us to create an instance of the class. This type of constructor is useful when the class doesn’t need to initialize any data upon object creation.\n",
        "\n",
        "\n"
      ],
      "metadata": {
        "id": "mnVotBsQfKrd"
      },
      "id": "mnVotBsQfKrd"
    },
    {
      "cell_type": "code",
      "source": [
        "# A class without any defined constructor\n",
        "# Python will automatically provide a default constructor\n",
        "\n",
        "class Message:\n",
        "    pass  # No __init__ method defined\n",
        "\n",
        "msg = Message()  # Python uses its default constructor\n",
        "print(\"Message object created:\", msg)\n"
      ],
      "metadata": {
        "colab": {
          "base_uri": "https://localhost:8080/"
        },
        "id": "VTQufVSGCRgt",
        "outputId": "ca85195d-8ecf-43d2-ef8e-b9634a2bd256"
      },
      "id": "VTQufVSGCRgt",
      "execution_count": 5,
      "outputs": [
        {
          "output_type": "stream",
          "name": "stdout",
          "text": [
            "Message object created: <__main__.Message object at 0x7eb034529b50>\n"
          ]
        }
      ]
    },
    {
      "cell_type": "markdown",
      "source": [
        "##Non-Parameterized Constructor\n"
      ],
      "metadata": {
        "id": "l0VqL0BTfK3U"
      },
      "id": "l0VqL0BTfK3U"
    },
    {
      "cell_type": "markdown",
      "source": [
        "A non-parameterized constructor is a user-defined `__init__` method that only takes the `self` parameter. It doesn’t accept any additional arguments. This type of constructor is often used to assign fixed default values to attributes or to run standard setup tasks like logging or connecting to a service.\n"
      ],
      "metadata": {
        "id": "-x4Jd4hcfLA9"
      },
      "id": "-x4Jd4hcfLA9"
    },
    {
      "cell_type": "code",
      "source": [
        "# A non-parameterized constructor that sets default values\n",
        "# Useful when attributes should always start with the same value\n",
        "\n",
        "class User:\n",
        "    def __init__(self):  # No arguments besides self\n",
        "        self.username = \"Guest\"\n",
        "        self.logged_in = False\n",
        "\n",
        "user = User()\n",
        "print(user.username)     # Output: Guest\n",
        "print(user.logged_in)    # Output: False\n"
      ],
      "metadata": {
        "colab": {
          "base_uri": "https://localhost:8080/"
        },
        "id": "fO9TOKUFC1EE",
        "outputId": "b9822def-e095-498d-b455-1098bcbe2d22"
      },
      "id": "fO9TOKUFC1EE",
      "execution_count": 6,
      "outputs": [
        {
          "output_type": "stream",
          "name": "stdout",
          "text": [
            "Guest\n",
            "False\n"
          ]
        }
      ]
    },
    {
      "cell_type": "markdown",
      "source": [
        "##Parametrized Constructors"
      ],
      "metadata": {
        "id": "12a8DuTOC5rT"
      },
      "id": "12a8DuTOC5rT"
    },
    {
      "cell_type": "markdown",
      "source": [
        "A parameterized constructor is a user-defined `__init__` method that accepts arguments (besides `self`) to initialize the object’s attributes with custom values. It gives flexibility to set specific data during object creation and is commonly used in real-world applications for configurable objects.\n"
      ],
      "metadata": {
        "id": "uKEZJQGTC__v"
      },
      "id": "uKEZJQGTC__v"
    },
    {
      "cell_type": "code",
      "source": [
        "# A parameterized constructor that accepts arguments\n",
        "# Useful for setting attributes at the time of object creation\n",
        "\n",
        "class Product:\n",
        "    def __init__(self, name, price):  # Parameters passed during object creation\n",
        "        self.name = name\n",
        "        self.price = price\n",
        "\n",
        "item = Product(\"Laptop\", 1200)\n",
        "print(item.name)   # Output: Laptop\n",
        "print(item.price)  # Output: 1200\n"
      ],
      "metadata": {
        "colab": {
          "base_uri": "https://localhost:8080/"
        },
        "id": "prJv-GcrDDXN",
        "outputId": "36244d38-fcee-4491-d6af-51ae1c09fe45"
      },
      "id": "prJv-GcrDDXN",
      "execution_count": 7,
      "outputs": [
        {
          "output_type": "stream",
          "name": "stdout",
          "text": [
            "Laptop\n",
            "1200\n"
          ]
        }
      ]
    },
    {
      "cell_type": "markdown",
      "source": [
        "# **Summary of the Four Pillars**\n",
        "| Pillar         | Description                                                                 | Example                                                                 |\n",
        "|-----------------|-----------------------------------------------------------------------------|-------------------------------------------------------------------------|\n",
        "| **Encapsulation** | Bundles data and restricts access using private/protected modifiers.     | `Person` class with `__name` and `_age`.                               |\n",
        "| **Abstraction**   | Hides complexity via abstract classes/methods.                           | Abstract `Shape` class with `area()` method.                           |\n",
        "| **Inheritance**   | Reuses code through parent-child relationships.                          | `Employee` inheriting from `Person`.                                   |\n",
        "| **Polymorphism**  | Same method behaves differently across objects.                          | `introduce()` in `Student` and `Teacher`.                              |"
      ],
      "metadata": {
        "id": "63a5seuffhJk"
      },
      "id": "63a5seuffhJk"
    },
    {
      "cell_type": "markdown",
      "source": [
        "##Abstraction\n",
        "\n",
        "Abstraction is an OOP principle that hides implementation details and exposes only essential functionalities.\n",
        "\n",
        "* Simplifies complex systems by providing a clear interface.\n",
        "* Reduces code complexity and enhances reusability.\n",
        "* Focuses on what an object does, not how it does it.\n",
        "* Abstract class **cannot be instantiated**\n",
        "* abstract method **must be implemented in chiled** classes\n",
        "\n",
        "\n",
        "**Abstract Class**\\\n",
        "An abstract class is a class that cannot be instantiated and is meant to be inherited by other classes. It serves as a blueprint for child classes.\n",
        "\n",
        "**Abstract Method**\\\n",
        "An abstract method is a method that has no implementation in the parent class and must be implemented in the child class."
      ],
      "metadata": {
        "id": "PI-RX5A_fhPd"
      },
      "id": "PI-RX5A_fhPd"
    },
    {
      "cell_type": "code",
      "source": [
        "from abc import ABC, abstractmethod\n",
        "\n",
        "class Shape(ABC):  # Abstract *Model*\n",
        "    @abstractmethod\n",
        "    def area(self):  # Abstract *Method*\n",
        "        pass\n",
        "\n",
        "class Circle(Shape):  # Subclass *Model*\n",
        "    def __init__(self, radius):\n",
        "        self.radius = radius  # *Property*\n",
        "\n",
        "    def area(self):  # Implementing *Method*\n",
        "        return 3.14 * self.radius ** 2\n",
        "\n",
        "class Rectangle(Shape):  # Another Subclass\n",
        "    def __init__(self, width, height):\n",
        "        self.width = width\n",
        "        self.height = height\n",
        "\n",
        "    def area(self):\n",
        "        return self.width * self.height\n",
        "\n",
        "circle = Circle(5)\n",
        "rectangle = Rectangle(4, 6)\n",
        "\n",
        "print(rectangle.area())\n",
        "print(circle.area())"
      ],
      "metadata": {
        "colab": {
          "base_uri": "https://localhost:8080/"
        },
        "id": "Q01QvVy_gIgl",
        "outputId": "decedfcc-427b-492a-d0a9-21c4ef722071"
      },
      "id": "Q01QvVy_gIgl",
      "execution_count": 8,
      "outputs": [
        {
          "output_type": "stream",
          "name": "stdout",
          "text": [
            "24\n",
            "78.5\n"
          ]
        }
      ]
    },
    {
      "cell_type": "markdown",
      "source": [
        "##Encapsulation\n",
        "\n",
        "* Encapsulation is one of the core concepts of Object-Oriented Programming (OOP) that is used to **restrict direct access** to the internal data of a class and only **allow access through controlled methods**.\n",
        "\n",
        "* It bundles the data (variables) and methods (functions) that operate on the data into a single unit (class).\n",
        "* It prevents unauthorized access and modification, ensuring data security and integrity.\n",
        "* Encapsulation helps in data hiding, which means internal details of how data is stored and modified are hidden from the outside world.\n",
        "\n",
        "**In Python, encapsulation is implemented using access modifiers:**\n",
        "\n",
        "- **Public**: Gives unrestricted access to all *Methods* and *Properties*, allowing them to be manipulated from anywhere. This is the default in Python.\n",
        "- **Protected**: Grants access to *Methods* and *Properties* only within the *Class* and its subclasses. Uses a single underscore (`_`) to indicate protected members (e.g., `_variable`).\n",
        "- **Private**: Access is restricted to the *Class* itself. Cannot be accessed or modified directly, even by subclasses. Uses double underscores (`__`) to indicate private members (e.g., `__variable`). Private members can only be accessed or modified using getter and setter *Methods*."
      ],
      "metadata": {
        "id": "ts7ZwOt6fhUy"
      },
      "id": "ts7ZwOt6fhUy"
    },
    {
      "cell_type": "code",
      "source": [
        "class Person:\n",
        "    def __init__(self, name, age, gender):\n",
        "        self.__name = name  # Private *Property*\n",
        "        self._age = age     # Protected *Property*\n",
        "        self.gender = gender # Public *Property*\n",
        "\n",
        "    # Getter *Method*\n",
        "    def get_name(self):\n",
        "        return self.__name\n",
        "\n",
        "    # Setter *Method*\n",
        "    def set_name(self, new_name):\n",
        "        if isinstance(new_name, str):\n",
        "            self.__name = new_name\n",
        "\n",
        "    # Public *Method*\n",
        "    def display_info(self):\n",
        "        print(f\"Name: {self.__name}, Age: {self._age}\")\n",
        "\n",
        "person1 = Person(\"Alice\", 30, \"Female\")\n",
        "print(person1.gender) # Acessible\n",
        "# print(person1.name) # Not Accessible\n",
        "person1.display_info()  # Accessible by public method\n",
        "person1.set_name(\"Alicia\")\n",
        "print(person1.get_name())  # Accessible only using getter"
      ],
      "metadata": {
        "colab": {
          "base_uri": "https://localhost:8080/"
        },
        "id": "VHHCxaJmgyrx",
        "outputId": "bd8925fd-bdaa-4e7f-c289-5628aab0343f"
      },
      "id": "VHHCxaJmgyrx",
      "execution_count": 9,
      "outputs": [
        {
          "output_type": "stream",
          "name": "stdout",
          "text": [
            "Female\n",
            "Name: Alice, Age: 30\n",
            "Alicia\n"
          ]
        }
      ]
    },
    {
      "cell_type": "markdown",
      "source": [
        "##Inheritance"
      ],
      "metadata": {
        "id": "EreEXzuFfhvn"
      },
      "id": "EreEXzuFfhvn"
    },
    {
      "cell_type": "markdown",
      "source": [
        "Inheritance allows a class (child class) to acquire properties and methods of another class (parent class).\n",
        "\n",
        "It supports hierarchical classification and promotes code reuse.\n",
        "***\n",
        "***Types of Inheritence :***\n",
        "* **Single Inheritance:** A child class inherits from a single parent class.\n",
        "* **Multiple Inheritance:** A child class inherits from more than one parent class.\n",
        "* **Multilevel Inheritance:** A child class inherits from a parent class, which in turn inherits from another class.\n",
        "* **Hierarchical Inheritance:** Multiple child classes inherit from a single parent class.\n",
        "* **Hybrid Inheritance:** A combination of two or more types of inheritance."
      ],
      "metadata": {
        "id": "0nUilbDwfh1L"
      },
      "id": "0nUilbDwfh1L"
    },
    {
      "cell_type": "code",
      "source": [
        "# Parent Class\n",
        "class Animal:\n",
        "    def __init__(self, name):\n",
        "        self.name = name\n",
        "\n",
        "    def speak(self):\n",
        "        raise NotImplementedError(\"Subclasses must implement this method.\")\n",
        "\n",
        "# Sub-class\n",
        "class Dog(Animal):\n",
        "    def speak(self):\n",
        "        return f\"{self.name} says Woof!\"\n",
        "\n",
        "class Cat(Animal):\n",
        "    def speak(self):\n",
        "        return f\"{self.name} says Meow!\"\n",
        "\n",
        "# Using the inheritance structure:\n",
        "dog = Dog(\"Buddy\")\n",
        "cat = Cat(\"Whiskers\")\n",
        "print(dog.speak())\n",
        "print(cat.speak())\n"
      ],
      "metadata": {
        "colab": {
          "base_uri": "https://localhost:8080/"
        },
        "id": "YoCh6mYGhRUf",
        "outputId": "7f2f7373-6ea6-4637-8079-5290eb27e630"
      },
      "id": "YoCh6mYGhRUf",
      "execution_count": 10,
      "outputs": [
        {
          "output_type": "stream",
          "name": "stdout",
          "text": [
            "Buddy says Woof!\n",
            "Whiskers says Meow!\n"
          ]
        }
      ]
    },
    {
      "cell_type": "markdown",
      "source": [
        "### 🧩 `super()` Keyword in Python OOP\n",
        "\n",
        "The `super()` function in Python is used to call methods from a **parent class** in a child class.\n",
        "\n",
        "---\n",
        "**✅ Why Use `super()`?**\n",
        "\n",
        "- Access the **parent class methods** inside a child class.\n",
        "- Supports **code reusability** and avoids hardcoding the parent class name.\n",
        "- Helps in **multiple inheritance** to properly resolve the **Method Resolution Order (MRO)**.\n"
      ],
      "metadata": {
        "id": "7vXMS179fh6S"
      },
      "id": "7vXMS179fh6S"
    },
    {
      "cell_type": "code",
      "source": [
        "class Animal:\n",
        "    def __init__(self, name):\n",
        "        self.name = name\n",
        "        print(f\"Animal created with name: {self.name}\")\n",
        "\n",
        "class Dog(Animal):\n",
        "    def __init__(self, name, breed):\n",
        "        super().__init__(name)  # Call parent class constructor\n",
        "        self.breed = breed\n",
        "        print(f\"Dog created with breed: {self.breed}\")\n",
        "\n",
        "d = Dog(\"Charlie\", \"Labrador\")\n"
      ],
      "metadata": {
        "colab": {
          "base_uri": "https://localhost:8080/"
        },
        "id": "mZpsGzyajLJ6",
        "outputId": "057fa93a-6453-4463-f43c-8fdf5e73b38d"
      },
      "id": "mZpsGzyajLJ6",
      "execution_count": 11,
      "outputs": [
        {
          "output_type": "stream",
          "name": "stdout",
          "text": [
            "Animal created with name: Charlie\n",
            "Dog created with breed: Labrador\n"
          ]
        }
      ]
    },
    {
      "cell_type": "markdown",
      "source": [
        "###Single Inheritance\n",
        "\n",
        "One child class inherits from one parent class."
      ],
      "metadata": {
        "id": "-aQ9lNDajZZf"
      },
      "id": "-aQ9lNDajZZf"
    },
    {
      "cell_type": "code",
      "source": [
        "class Parent:\n",
        "    def greet(self):\n",
        "        print(\"Hello from Parent\")\n",
        "\n",
        "class Child(Parent):\n",
        "    def display(self):\n",
        "        print(\"Child class here\")\n",
        "\n",
        "obj = Child()\n",
        "obj.greet()\n",
        "obj.display()"
      ],
      "metadata": {
        "colab": {
          "base_uri": "https://localhost:8080/"
        },
        "id": "JzJqkAPZjg3f",
        "outputId": "3e366552-866b-4112-d010-7904dc8e382f"
      },
      "id": "JzJqkAPZjg3f",
      "execution_count": 12,
      "outputs": [
        {
          "output_type": "stream",
          "name": "stdout",
          "text": [
            "Hello from Parent\n",
            "Child class here\n"
          ]
        }
      ]
    },
    {
      "cell_type": "markdown",
      "source": [
        "### Multiple Inheritance\n",
        "A child class inherits from more than one parent class."
      ],
      "metadata": {
        "id": "QID6PBNdjZhl"
      },
      "id": "QID6PBNdjZhl"
    },
    {
      "cell_type": "code",
      "source": [
        "class Father:\n",
        "    def skills(self):\n",
        "        print(\"Father: Guitar\")\n",
        "\n",
        "class Mother:\n",
        "    def skills(self):\n",
        "        print(\"Mother: Painting\")\n",
        "\n",
        "class Child(Father, Mother):\n",
        "    pass\n",
        "\n",
        "obj = Child()\n",
        "obj.skills()  # Output: Father: Guitar (depends on MRO)\n"
      ],
      "metadata": {
        "colab": {
          "base_uri": "https://localhost:8080/"
        },
        "id": "0SIO44J7jtBq",
        "outputId": "102adb08-9293-479d-e7f6-dd26d0e3f812"
      },
      "id": "0SIO44J7jtBq",
      "execution_count": 13,
      "outputs": [
        {
          "output_type": "stream",
          "name": "stdout",
          "text": [
            "Father: Guitar\n"
          ]
        }
      ]
    },
    {
      "cell_type": "markdown",
      "source": [
        "### 🧠 Method Resolution Order (MRO)\n",
        "\n",
        "### What is MRO?\n",
        "- **MRO (Method Resolution Order)** is the order in which Python looks for a method or attribute when **multiple classes are inherited**.\n",
        "- Python uses MRO to decide which class method or attribute to use when a method is called on an object of a class that has inherited from multiple parents.\n"
      ],
      "metadata": {
        "id": "LyR89GMKjZqS"
      },
      "id": "LyR89GMKjZqS"
    },
    {
      "cell_type": "markdown",
      "source": [
        "###Multilevel Inheritance\n",
        "A class inherits from a child class, which itself inherited from another class (grandparent → parent → child)."
      ],
      "metadata": {
        "id": "xl44Su0fhir4"
      },
      "id": "xl44Su0fhir4"
    },
    {
      "cell_type": "code",
      "source": [
        "class Grandparent:\n",
        "    def origin(self):\n",
        "        print(\"Grandparent class\")\n",
        "\n",
        "class Parent(Grandparent):\n",
        "    def middle(self):\n",
        "        print(\"Parent class\")\n",
        "\n",
        "class Child(Parent):\n",
        "    def last(self):\n",
        "        print(\"Child class\")\n",
        "\n",
        "obj = Child()\n",
        "obj.origin()\n",
        "obj.middle()\n",
        "obj.last()\n"
      ],
      "metadata": {
        "colab": {
          "base_uri": "https://localhost:8080/"
        },
        "id": "n54Ws89GkD7_",
        "outputId": "8f7319a3-eaa4-4f76-f792-7620882f4e6b"
      },
      "id": "n54Ws89GkD7_",
      "execution_count": 14,
      "outputs": [
        {
          "output_type": "stream",
          "name": "stdout",
          "text": [
            "Grandparent class\n",
            "Parent class\n",
            "Child class\n"
          ]
        }
      ]
    },
    {
      "cell_type": "markdown",
      "source": [
        "###Hierarchical Inheritance\n",
        "Multiple child classes inherit from a single parent class."
      ],
      "metadata": {
        "id": "zgPhSF-zhi4d"
      },
      "id": "zgPhSF-zhi4d"
    },
    {
      "cell_type": "code",
      "source": [
        "class Parent:\n",
        "    def speak(self):\n",
        "        print(\"Speaking from Parent\")\n",
        "\n",
        "class Child1(Parent):\n",
        "    def c1(self):\n",
        "        print(\"Child 1\")\n",
        "\n",
        "class Child2(Parent):\n",
        "    def c2(self):\n",
        "        print(\"Child 2\")\n",
        "\n",
        "obj1 = Child1()\n",
        "obj2 = Child2()\n",
        "obj1.speak()\n",
        "obj2.speak()\n"
      ],
      "metadata": {
        "colab": {
          "base_uri": "https://localhost:8080/"
        },
        "id": "jxpn4qfxkMhd",
        "outputId": "f74285fd-6b33-4279-bb2f-0cf78d96a15f"
      },
      "id": "jxpn4qfxkMhd",
      "execution_count": 15,
      "outputs": [
        {
          "output_type": "stream",
          "name": "stdout",
          "text": [
            "Speaking from Parent\n",
            "Speaking from Parent\n"
          ]
        }
      ]
    },
    {
      "cell_type": "markdown",
      "source": [
        "###Hybrid Inheritance\n",
        "A combination of two or more types of inheritance."
      ],
      "metadata": {
        "id": "s5Cz6LRehjDy"
      },
      "id": "s5Cz6LRehjDy"
    },
    {
      "cell_type": "code",
      "source": [
        "class A:\n",
        "    def methodA(self):\n",
        "        print(\"A\")\n",
        "\n",
        "class B(A):\n",
        "    def methodB(self):\n",
        "        print(\"B\")\n",
        "\n",
        "class C:\n",
        "    def methodC(self):\n",
        "        print(\"C\")\n",
        "\n",
        "class D(B, C):  # Hybrid (Multilevel + Multiple)\n",
        "    def methodD(self):\n",
        "        print(\"D\")\n",
        "\n",
        "obj = D()\n",
        "obj.methodA()\n",
        "obj.methodC()\n",
        "obj.methodD()\n"
      ],
      "metadata": {
        "colab": {
          "base_uri": "https://localhost:8080/"
        },
        "id": "k82pu2S4kWCQ",
        "outputId": "902a1c3f-a472-4e6c-f309-fd2127bc81f5"
      },
      "id": "k82pu2S4kWCQ",
      "execution_count": 16,
      "outputs": [
        {
          "output_type": "stream",
          "name": "stdout",
          "text": [
            "A\n",
            "C\n",
            "D\n"
          ]
        }
      ]
    },
    {
      "cell_type": "markdown",
      "source": [
        "###Composition\n",
        "Composition is a design principle where you build *classes* by combining *objects*, rather than using deep inheritance hierarchies. This approach can provide more flexibility and reduce complexity by allowing behaviors to be reused across different classes without rigid parent-child relationships.\n",
        "\n",
        "**Use Inheritance:**\n",
        "\n",
        "\n",
        "*   When objects share common behavior that should not change.\n",
        "\n",
        "*   When there is a clear **\"is-a\"** relationship (e.g., a Dog **is a** type of Animal).\n",
        "\n",
        "**Use Composition:**\n",
        "\n",
        "*   When behavior changes frequently and should be flexible.\n",
        "\n",
        "*   When there's a need to combine different functionalities dynamically.\n",
        "\n",
        "*   When there is a clear **\"has-a\"** relationship (e.g., a Robot **has a** movement behavior).\n",
        "\n",
        "\n",
        "\n",
        "\n",
        "\n",
        "\n",
        "\n",
        "\n",
        "\n"
      ],
      "metadata": {
        "id": "ignvmz-UhjPF"
      },
      "id": "ignvmz-UhjPF"
    },
    {
      "cell_type": "code",
      "source": [
        "# Movement behaviors are separate from the Robot class\n",
        "class Walking:\n",
        "    def move(self):\n",
        "        return \"I am walking.\"\n",
        "\n",
        "class Flying:\n",
        "    def move(self):\n",
        "        return \"I am flying.\"\n",
        "\n",
        "class Robot:\n",
        "    def __init__(self, movement_behavior):\n",
        "        self.movement_behavior = movement_behavior  # Composed object\n",
        "\n",
        "    def move(self):\n",
        "        return self.movement_behavior.move()\n",
        "\n",
        "    def set_movement(self, new_movement):\n",
        "        self.movement_behavior = new_movement  # Change behavior dynamically\n",
        "\n",
        "# Creating robots with different behaviors (robot class doesn't change)\n",
        "robot = Robot(Walking())\n",
        "print(robot.move())\n",
        "\n",
        "robot.set_movement(Flying())\n",
        "print(robot.move())"
      ],
      "metadata": {
        "colab": {
          "base_uri": "https://localhost:8080/"
        },
        "id": "baj0OGLclHHn",
        "outputId": "959786bb-cddb-4cde-f229-7caa6f945c71"
      },
      "id": "baj0OGLclHHn",
      "execution_count": 17,
      "outputs": [
        {
          "output_type": "stream",
          "name": "stdout",
          "text": [
            "I am walking.\n",
            "I am flying.\n"
          ]
        }
      ]
    },
    {
      "cell_type": "markdown",
      "source": [
        "##Polimorphism"
      ],
      "metadata": {
        "id": "9eC4xFIrlt5c"
      },
      "id": "9eC4xFIrlt5c"
    },
    {
      "cell_type": "markdown",
      "source": [
        "###Types of Polymorphism in Python\n",
        "* Method Overriding (Runtime Polymorphism)\n",
        "* Method Overloading (Compile-time Polymorphism - Not Natively Supported in Python, but can be mimicked)\n"
      ],
      "metadata": {
        "id": "2Qq2ADHfhjaj"
      },
      "id": "2Qq2ADHfhjaj"
    },
    {
      "cell_type": "markdown",
      "source": [
        "###Method Overriding (Runtime Polymorphism)\n",
        "* Method overriding allows a child class to provide a specific implementation of a method that is already defined in its parent class.\n",
        "\n",
        "* The method in the child class must have the same name and same number of parameters as in the parent class.\n",
        "\n",
        "* When a method is called using an object of the child class, the child class's version is executed instead of the parent class's version.\n",
        "\n",
        "**Key Takeaways:**\n",
        "* The child class redefines the method from the parent class.\n",
        "* The method name remains the same, but the implementation is different in each subclass.\n",
        "* This allows runtime polymorphism, where the method that gets executed depends on the object calling it."
      ],
      "metadata": {
        "id": "c2xQK8q7hjlB"
      },
      "id": "c2xQK8q7hjlB"
    },
    {
      "cell_type": "code",
      "source": [
        "class Student(Person):\n",
        "    def __init__(self, name, age, gender, student_id):\n",
        "        super().__init__(name, age, gender)\n",
        "        self.student_id = student_id  # *Property*\n",
        "\n",
        "    def introduce(self):  # Unique *Method*\n",
        "        print(f\"I'm {self.get_name()}, a student with ID: {self.student_id}\")\n",
        "\n",
        "class Teacher(Person):\n",
        "    def __init__(self, name, age, gender, subject):\n",
        "        super().__init__(name, age, gender)\n",
        "        self.subject = subject  # *Property*\n",
        "\n",
        "    def introduce(self):  # Unique *Method*\n",
        "        print(f\"I'm {self.get_name()}, a {self.subject} teacher.\")\n",
        "\n",
        "def person_introduction(obj):  # Common interface\n",
        "    obj.introduce()\n",
        "\n",
        "# Create *Objects*\n",
        "student1 = Student(\"Charlie\", 20, \"Female\", \"S123\")\n",
        "teacher1 = Teacher(\"Dave\", 45, \"Male\", \"Math\")\n",
        "person_introduction(student1)  # Output: I'm Charlie, a student...\n",
        "person_introduction(teacher1)  # Output: I'm Dave, a Math teacher..."
      ],
      "metadata": {
        "colab": {
          "base_uri": "https://localhost:8080/"
        },
        "id": "WnoozuFMm4g7",
        "outputId": "a6131fa6-b062-4165-e51f-149fcccfa125"
      },
      "id": "WnoozuFMm4g7",
      "execution_count": 18,
      "outputs": [
        {
          "output_type": "stream",
          "name": "stdout",
          "text": [
            "I'm Charlie, a student with ID: S123\n",
            "I'm Dave, a Math teacher.\n"
          ]
        }
      ]
    },
    {
      "cell_type": "markdown",
      "source": [
        "###Method Overloading\n",
        "* Method overloading means defining multiple methods with the same name but different numbers or types of parameters.\n",
        "* Python does not support method overloading natively, unlike other languages like Java and C++.\n",
        "* However, it can be mimicked using default arguments or \\*args and **kwargs (variable-length arguments)."
      ],
      "metadata": {
        "id": "FdCGMhbAhj5i"
      },
      "id": "FdCGMhbAhj5i"
    },
    {
      "cell_type": "code",
      "source": [
        "class MathOperations:\n",
        "    # Single method handling multiple cases\n",
        "    def add(self, a, b, c=0):\n",
        "        return a + b + c\n",
        "\n",
        "# Creating object\n",
        "math_op = MathOperations()\n",
        "\n",
        "# Calling method with different number of arguments\n",
        "print(math_op.add(2, 3))\n",
        "print(math_op.add(2, 3, 4))"
      ],
      "metadata": {
        "colab": {
          "base_uri": "https://localhost:8080/"
        },
        "id": "2ee_VSOjnM8Y",
        "outputId": "95210515-5ab1-46e0-93cf-62bcd27e773d"
      },
      "id": "2ee_VSOjnM8Y",
      "execution_count": 19,
      "outputs": [
        {
          "output_type": "stream",
          "name": "stdout",
          "text": [
            "5\n",
            "9\n"
          ]
        }
      ]
    },
    {
      "cell_type": "markdown",
      "source": [
        "### `*args` in Python\n",
        "\n",
        "In Python, `*args` is used to pass a variable number of arguments to a function. It allows a function to accept any number of **positional arguments** (arguments that are passed without a keyword) as a **tuple**.\n",
        "\n",
        "### Why Use `*args`?\n",
        "\n",
        "When you don't know in advance how many arguments will be passed to a function, you can use `*args` to collect all positional arguments into a tuple. This is useful in scenarios where the number of arguments can vary.\n",
        "\n",
        "### How Does `*args` Work?\n",
        "The *args syntax collects all the extra positional arguments passed to a function into a tuple.\n",
        "args is just a convention. You could use any name (like *varargs, but *args is standard practice)."
      ],
      "metadata": {
        "id": "jbo_tqs8hkHJ"
      },
      "id": "jbo_tqs8hkHJ"
    },
    {
      "cell_type": "code",
      "source": [
        "class MathOperations:\n",
        "    def add(self, *args):\n",
        "        print(type(args))\n",
        "        return sum(args)\n",
        "\n",
        "# Creating object\n",
        "math_op = MathOperations()\n",
        "\n",
        "# Calling method with different number of arguments\n",
        "print(math_op.add(2, 3))          # Output: 5\n",
        "print(math_op.add(2, 3, 4))       # Output: 9\n",
        "print(math_op.add(1, 2, 3, 4, 5)) # Output: 15\n"
      ],
      "metadata": {
        "colab": {
          "base_uri": "https://localhost:8080/"
        },
        "id": "1D7JGRRRnlGi",
        "outputId": "1c832277-5bf1-4f8c-9996-36a6af975177"
      },
      "id": "1D7JGRRRnlGi",
      "execution_count": 20,
      "outputs": [
        {
          "output_type": "stream",
          "name": "stdout",
          "text": [
            "<class 'tuple'>\n",
            "5\n",
            "<class 'tuple'>\n",
            "9\n",
            "<class 'tuple'>\n",
            "15\n"
          ]
        }
      ]
    },
    {
      "cell_type": "markdown",
      "source": [
        "##**Decorators**"
      ],
      "metadata": {
        "id": "ZMlX0TpUETqa"
      },
      "id": "ZMlX0TpUETqa"
    },
    {
      "cell_type": "markdown",
      "source": [
        "A **decorator** in Python is a function that:\n",
        "\n",
        "- Takes another function (or method) as an argument.\n",
        "- Extends or modifies its behavior without changing the original function’s code.\n",
        "- Is applied using the `@decorator_name` syntax above a function definition.\n",
        "\n",
        "---\n",
        "\n",
        "### **Types of Decorators**\n",
        "\n",
        "#### 1. **Function Decorators**  \n",
        "   - **Definition**: Modifies the behavior of a function.  \n",
        "   - **Use Cases**: Logging, timing, memoization.\n",
        "\n",
        "#### 2. **Class Decorators**  \n",
        "   - **Definition**: Modifies or extends the behavior of a class.  \n",
        "   - **Use Cases**: Adding attributes, modifying class behavior.\n",
        "\n",
        "#### 3. **Decorators with Arguments**  \n",
        "   - **Definition**: Accepts arguments to customize behavior.  \n",
        "   - **Use Cases**: Repeating function calls, conditional behavior.\n",
        "\n",
        "#### 4. **Method Decorators**  \n",
        "   - **Definition**: Applied to methods inside a class.  \n",
        "   - **Use Cases**: Access control, method-specific caching.\n",
        "\n",
        "---\n",
        "\n",
        "### **Use Cases for Decorators**\n",
        "\n",
        "#### 1. **Logging**  \n",
        "   - Automatically logs function calls and their results.\n",
        "\n",
        "#### 2. **Timing Execution**  \n",
        "   - Measures and logs function execution time for performance analysis.\n",
        "\n",
        "#### 3. **Access Control**  \n",
        "   - Restricts access to functions based on user permissions.\n",
        "\n",
        "#### 4. **Memoization**  \n",
        "   - Caches function results to optimize performance.\n",
        "\n",
        "#### 5. **Retry Logic**  \n",
        "   - Retries function execution in case of failure.\n",
        "\n",
        "---\n",
        "\n",
        "### **Summary**\n",
        "\n",
        "Decorators allow you to extend or modify the behavior of functions and classes in a clean, reusable way, without altering the original code.\n"
      ],
      "metadata": {
        "id": "lmWAr0PrEUfh"
      },
      "id": "lmWAr0PrEUfh"
    },
    {
      "cell_type": "markdown",
      "source": [
        "### Function decorator"
      ],
      "metadata": {
        "id": "uvq91j6UE3k0"
      },
      "id": "uvq91j6UE3k0"
    },
    {
      "cell_type": "code",
      "source": [
        "# Baisc decorator\n",
        "# Function decorator\n",
        "\n",
        "'''\n",
        "my_decorator(func) is a function that takes another function (func) as an argument.\n",
        "\n",
        "Inside my_decorator, it defines a new function called wrapper():\n",
        "\n",
        "It prints \"Before the function runs\".\n",
        "\n",
        "It then calls the original function func().\n",
        "\n",
        "It prints \"After the function runs\".\n",
        "\n",
        "Finally, my_decorator returns the wrapper function.\n",
        "'''\n",
        "\n",
        "def my_decorator(func):\n",
        "    def wrapper():\n",
        "        print(\"Before the function runs\")\n",
        "        func()\n",
        "        print(\"After the function runs\")\n",
        "    return wrapper\n",
        "\n",
        "\n",
        "\n",
        "# here decorator symbol is used but this task can be done manually\n",
        "@my_decorator\n",
        "def say_hello():\n",
        "    print(\"Hello!\")\n",
        "\n",
        "say_hello()\n",
        "\n",
        "# manual implementation\n",
        "def greet():\n",
        "    print(\"Hi there!\")\n",
        "\n",
        "decorated_greet = my_decorator(greet)\n",
        "decorated_greet()\n"
      ],
      "metadata": {
        "colab": {
          "base_uri": "https://localhost:8080/"
        },
        "id": "BQvx05FEE4DU",
        "outputId": "d75c23ed-4dc0-41a4-cc99-a7f9f93ca9a7"
      },
      "id": "BQvx05FEE4DU",
      "execution_count": 21,
      "outputs": [
        {
          "output_type": "stream",
          "name": "stdout",
          "text": [
            "Before the function runs\n",
            "Hello!\n",
            "After the function runs\n",
            "Before the function runs\n",
            "Hi there!\n",
            "After the function runs\n"
          ]
        }
      ]
    },
    {
      "cell_type": "markdown",
      "source": [
        "### Class decorator"
      ],
      "metadata": {
        "id": "FwHUX_bXE8eA"
      },
      "id": "FwHUX_bXE8eA"
    },
    {
      "cell_type": "code",
      "source": [
        "# This is a decorator function that takes a class (cls) as an argument.\n",
        "# Inside the function, it adds a new attribute called class_name to the class, setting\n",
        "# it to the name of the class using cls.__name__. The __name__ attribute contains the\n",
        "# name of the class as a string.\n",
        "\n",
        "def add_class_name(cls):\n",
        "    cls.class_name = cls.__name__\n",
        "    return cls\n",
        "\n",
        "# This means that the add_class_name function is called with the MyClass class as an argument.\n",
        "# The add_class_name function adds the class_name attribute to MyClass and returns the modified class.\n",
        "@add_class_name\n",
        "class MyClass:\n",
        "    pass\n",
        "\n",
        "print(MyClass.class_name)  # Output: MyClass\n"
      ],
      "metadata": {
        "colab": {
          "base_uri": "https://localhost:8080/"
        },
        "id": "LBuXc39kE9Wd",
        "outputId": "40c3cb0c-8022-4de4-ec9f-d498756de1d5"
      },
      "id": "LBuXc39kE9Wd",
      "execution_count": 22,
      "outputs": [
        {
          "output_type": "stream",
          "name": "stdout",
          "text": [
            "MyClass\n"
          ]
        }
      ]
    },
    {
      "cell_type": "markdown",
      "source": [
        "### Built-in Decorator\n",
        "Instance Method: Uses self, operates on instance data.\n",
        "\n",
        "Class Method: Uses cls, operates on class data.\n",
        "\n",
        "Static Method: No self or cls, operates like a regular function.\n",
        "\n",
        "*** Bydefault any method inside class is instance method , to use other 2 decorator has to be used. **bold text**"
      ],
      "metadata": {
        "id": "mnFDkw70E-9L"
      },
      "id": "mnFDkw70E-9L"
    },
    {
      "cell_type": "markdown",
      "source": [
        "####@staticmethod"
      ],
      "metadata": {
        "id": "cyybO1m9FFeB"
      },
      "id": "cyybO1m9FFeB"
    },
    {
      "cell_type": "code",
      "source": [
        "class Math:\n",
        "    @staticmethod\n",
        "    def add(a, b):\n",
        "        return a + b\n",
        "\n",
        "print(Math.add(3, 5))  # Output: 8\n"
      ],
      "metadata": {
        "colab": {
          "base_uri": "https://localhost:8080/"
        },
        "id": "oybzvynjFKy0",
        "outputId": "380b2e87-7ab8-4cac-95f3-a94257393b9e"
      },
      "id": "oybzvynjFKy0",
      "execution_count": 23,
      "outputs": [
        {
          "output_type": "stream",
          "name": "stdout",
          "text": [
            "8\n"
          ]
        }
      ]
    },
    {
      "cell_type": "markdown",
      "source": [
        "####@classmethod"
      ],
      "metadata": {
        "id": "4E27pTm6FSTE"
      },
      "id": "4E27pTm6FSTE"
    },
    {
      "cell_type": "code",
      "source": [
        "class Person:\n",
        "    count = 0\n",
        "\n",
        "    def __init__(self):\n",
        "        Person.count += 1\n",
        "\n",
        "    @classmethod\n",
        "    def how_many(cls):\n",
        "        return cls.count\n",
        "\n",
        "print(Person.how_many())  # Output: 0\n",
        "p = Person()\n",
        "print(Person.how_many())  # Output: 1"
      ],
      "metadata": {
        "colab": {
          "base_uri": "https://localhost:8080/"
        },
        "id": "W7j56AwuFUKQ",
        "outputId": "38826870-098c-4431-c06b-d3cb738c4632"
      },
      "id": "W7j56AwuFUKQ",
      "execution_count": 24,
      "outputs": [
        {
          "output_type": "stream",
          "name": "stdout",
          "text": [
            "0\n",
            "1\n"
          ]
        }
      ]
    },
    {
      "cell_type": "markdown",
      "source": [
        "####@property"
      ],
      "metadata": {
        "id": "MS-AWhV_FX6m"
      },
      "id": "MS-AWhV_FX6m"
    },
    {
      "cell_type": "code",
      "source": [
        "class Circle:\n",
        "    def __init__(self, radius):\n",
        "        self._radius = radius\n",
        "\n",
        "    @property\n",
        "    def area(self):\n",
        "        return 3.14 * self._radius ** 2\n",
        "\n",
        "c = Circle(3)\n",
        "print(c.area)  # Output: 28.26\n"
      ],
      "metadata": {
        "colab": {
          "base_uri": "https://localhost:8080/"
        },
        "id": "X_Mf9nE6FYys",
        "outputId": "6bcb1314-6c11-4438-dcd0-f205e0df7497"
      },
      "id": "X_Mf9nE6FYys",
      "execution_count": 25,
      "outputs": [
        {
          "output_type": "stream",
          "name": "stdout",
          "text": [
            "28.26\n"
          ]
        }
      ]
    },
    {
      "cell_type": "markdown",
      "source": [
        "###Custom decorator"
      ],
      "metadata": {
        "id": "466wxNgKFoHI"
      },
      "id": "466wxNgKFoHI"
    },
    {
      "cell_type": "code",
      "source": [
        "# This defines the decorator function log. A decorator is a function that takes another function (func)\n",
        "# as an argument and returns a modified version of that function.\n",
        "\n",
        "# The wrapper function will wrap the original function func, and it takes any number of positional (*args)\n",
        "# and keyword arguments (**kwargs) to handle the arguments passed to func dynamically.\n",
        "\n",
        "# The purpose of this decorator is to log information about the function call, such as the arguments passed\n",
        "# to it and the result returned by it.\n",
        "def log(func):\n",
        "    def wrapper(*args, **kwargs):\n",
        "        # Before calling the original function func, this line prints a message\n",
        "        # showing the function's name (func.__name__) and the arguments (args, kwargs) passed to it.\n",
        "        print(f\"Calling {func.__name__} with {args} and {kwargs}\")\n",
        "        result = func(*args, **kwargs)\n",
        "        print(f\"Returned {result}\")\n",
        "        return result\n",
        "    return wrapper\n",
        "\n",
        "@log\n",
        "def add(x, y):\n",
        "    return x + y\n",
        "\n",
        "add(2, 3)\n"
      ],
      "metadata": {
        "colab": {
          "base_uri": "https://localhost:8080/"
        },
        "id": "ly3FI-7nFjbd",
        "outputId": "cf7f5212-6d1f-4174-f098-07a0e235e512"
      },
      "id": "ly3FI-7nFjbd",
      "execution_count": 26,
      "outputs": [
        {
          "output_type": "stream",
          "name": "stdout",
          "text": [
            "Calling add with (2, 3) and {}\n",
            "Returned 5\n"
          ]
        },
        {
          "output_type": "execute_result",
          "data": {
            "text/plain": [
              "5"
            ]
          },
          "metadata": {},
          "execution_count": 26
        }
      ]
    },
    {
      "cell_type": "markdown",
      "source": [
        "###Parameterized Decorator"
      ],
      "metadata": {
        "id": "BYuBxCflFt4v"
      },
      "id": "BYuBxCflFt4v"
    },
    {
      "cell_type": "code",
      "source": [
        "# The outer function repeat takes a parameter times, which specifies how many\n",
        "# times the decorated function should be called. This is the parameterized decorator.\n",
        "# Inside repeat, another function decorator is defined. This function takes func\n",
        "# (the function to be decorated) as its argument.\n",
        "# The purpose of decorator is to modify the behavior of the func function.\n",
        "\n",
        "def repeat(times):\n",
        "    def decorator(func):\n",
        "        def wrapper(*args, **kwargs):\n",
        "            for _ in range(times):\n",
        "                func(*args, **kwargs)\n",
        "        return wrapper\n",
        "    return decorator\n",
        "\n",
        "@repeat(3)\n",
        "def greet():\n",
        "    print(\"Hi!\")\n",
        "\n",
        "greet()\n"
      ],
      "metadata": {
        "colab": {
          "base_uri": "https://localhost:8080/"
        },
        "id": "_ASEXMz2FwXX",
        "outputId": "858a37e5-104f-449f-b2ee-4ec0af924b70"
      },
      "id": "_ASEXMz2FwXX",
      "execution_count": 27,
      "outputs": [
        {
          "output_type": "stream",
          "name": "stdout",
          "text": [
            "Hi!\n",
            "Hi!\n",
            "Hi!\n"
          ]
        }
      ]
    },
    {
      "cell_type": "markdown",
      "source": [
        "##**Properties**"
      ],
      "metadata": {
        "id": "gR9__3lRF4wr"
      },
      "id": "gR9__3lRF4wr"
    },
    {
      "cell_type": "markdown",
      "source": [
        "In Python, a **property** is a special method that allows you to define a method for getting, setting, or deleting an attribute, while accessing it like an ordinary attribute.\n",
        "\n",
        "It is defined using the `@property` decorator and is commonly used for encapsulating attributes, ensuring control over how they are accessed or modified.\n",
        "\n",
        "---\n",
        "\n",
        "### Types of Properties\n",
        "\n",
        "#### 1. **Getter Property**\n",
        "   - **Definition**: A method that retrieves the value of an attribute.\n",
        "   - **Use Cases**: Lazy loading, data transformation before returning.\n",
        "\n",
        "#### 2. **Setter Property**\n",
        "   - **Definition**: A method that sets the value of an attribute with additional checks or transformations.\n",
        "   - **Use Cases**: Validation before assigning a value to an attribute.\n",
        "\n",
        "#### 3. **Deleter Property**\n",
        "   - **Definition**: A method that defines custom behavior when an attribute is deleted.\n",
        "   - **Use Cases**: Clean-up tasks when an attribute is deleted (e.g., resource management).\n",
        "\n",
        "---\n",
        "\n",
        "### Use Cases for Properties\n",
        "\n",
        "#### 1. **Encapsulation**  \n",
        "   - Hide internal attributes and provide controlled access.\n",
        "\n",
        "#### 2. **Validation**  \n",
        "   - Automatically validate data before setting an attribute.\n",
        "\n",
        "#### 3. **Computed Properties**  \n",
        "   - Create properties that are computed dynamically based on other attributes.\n",
        "\n",
        "---\n",
        "\n",
        "### Summary\n",
        "\n",
        "Properties in Python offer a way to control how attributes are accessed, modified, or deleted. They help in maintaining encapsulation and enforcing validation, all while allowing access like regular attributes.\n"
      ],
      "metadata": {
        "id": "J-Za-78QF6vS"
      },
      "id": "J-Za-78QF6vS"
    },
    {
      "cell_type": "code",
      "source": [
        "'''\n",
        "use of Python's property decorators (@property, @name.setter, @salary.setter, @salary.deleter)\n",
        "to manage the attributes of a class, encapsulate them, and enforce validation.\n",
        "'''\n",
        "\n",
        "class Employee:\n",
        "    def __init__(self, name, salary):\n",
        "        # The Employee class is designed to represent an employee with two attributes: name and salary.\n",
        "        # The properties for these attributes are managed using getter, setter, and deleter methods.\n",
        "        self._name = name\n",
        "        self._salary = salary\n",
        "\n",
        "    # Getter property for 'name'\n",
        "    @property\n",
        "    def name(self):\n",
        "        return self._name\n",
        "\n",
        "    # Setter property for 'name'\n",
        "    @name.setter\n",
        "    def name(self, value):\n",
        "        if len(value) > 2:  # Validate name length\n",
        "            self._name = value\n",
        "        else:\n",
        "            raise ValueError(\"Name must be longer than 2 characters.\")\n",
        "\n",
        "    # Getter property for 'salary'\n",
        "    @property\n",
        "    def salary(self):\n",
        "        return self._salary\n",
        "\n",
        "    # Setter property for 'salary'\n",
        "    @salary.setter\n",
        "    def salary(self, value):\n",
        "        if value > 0:\n",
        "            self._salary = value\n",
        "        else:\n",
        "            raise ValueError(\"Salary must be positive.\")\n",
        "\n",
        "    # Deleter property for 'salary'\n",
        "    @salary.deleter\n",
        "    def salary(self):\n",
        "        print(\"Deleting salary...\")\n",
        "        del self._salary\n",
        "\n",
        "# Creating an instance of Employee\n",
        "emp = Employee(\"John\", 5000)\n",
        "\n",
        "# Accessing the 'name' property (getter)\n",
        "print(emp.name)  # Output: John\n",
        "\n",
        "# Setting the 'name' property (setter)\n",
        "emp.name = \"Jane\"\n",
        "print(emp.name)  # Output: Jane\n",
        "\n",
        "# Setting a salary (setter)\n",
        "emp.salary = 5500\n",
        "print(emp.salary)  # Output: 5500\n",
        "\n",
        "# Deleting salary (deleter)\n",
        "del emp.salary  # Output: Deleting salary...\n"
      ],
      "metadata": {
        "colab": {
          "base_uri": "https://localhost:8080/"
        },
        "id": "kFcvvdJFGFti",
        "outputId": "328ac543-155c-4365-dbdf-190ce3f7d9ca"
      },
      "id": "kFcvvdJFGFti",
      "execution_count": 28,
      "outputs": [
        {
          "output_type": "stream",
          "name": "stdout",
          "text": [
            "John\n",
            "Jane\n",
            "5500\n",
            "Deleting salary...\n"
          ]
        }
      ]
    }
  ]
}