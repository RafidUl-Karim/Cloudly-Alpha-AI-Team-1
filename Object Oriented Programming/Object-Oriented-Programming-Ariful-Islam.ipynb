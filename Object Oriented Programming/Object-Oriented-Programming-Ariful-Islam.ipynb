{
  "nbformat": 4,
  "nbformat_minor": 0,
  "metadata": {
    "colab": {
      "provenance": [],
      "toc_visible": true
    },
    "kernelspec": {
      "name": "python3",
      "display_name": "Python 3"
    },
    "language_info": {
      "name": "python"
    }
  },
  "cells": [
    {
      "cell_type": "markdown",
      "source": [
        "#OOP"
      ],
      "metadata": {
        "id": "wsyW2Pf6ryBM"
      }
    },
    {
      "cell_type": "markdown",
      "source": [
        "##Class and Objects"
      ],
      "metadata": {
        "id": "5ONQ7Tzir10h"
      }
    },
    {
      "cell_type": "markdown",
      "source": [
        "**A class** is a collection of objects.\n",
        "\n",
        "Classes are blueprints for creating objects.\n",
        "\n",
        "A class defines a set of **attributes and methods** that the created objects (instances) can have.\n",
        "\n",
        "* Classes are created by keyword class.\n",
        "* Attributes are the variables that belong to a class.\n",
        "* Attributes are **always public** and can be accessed using the dot (.) operator. Example: Myclass.Myattribute\n",
        "\n",
        "**Object** is an instance of a Class.\n",
        "\n",
        "It represents a specific implementation of the class and holds its own data.\n",
        "\n",
        "***An object consists of:***\n",
        "\n",
        "* **State:** It is represented by the attributes and reflects the properties of an object.\n",
        "* **Behavior:** It is represented by the methods of an object and reflects the response of an object to other objects.\n",
        "* **Identity:** It gives a unique name to an object and enables one object to interact with other objects."
      ],
      "metadata": {
        "id": "wLrbbvRgywJ1"
      }
    },
    {
      "cell_type": "code",
      "source": [
        "class Employee:\n",
        "  dept = 'AI/ML' # It is class variable\n",
        "\n",
        "  # Inside this are instance variable And Its a constructor for initialising object variables\n",
        "  def __init__(self, name, id):\n",
        "    self.name = name\n",
        "    self.id = id\n",
        "\n",
        "  def display(self):\n",
        "    print(\"\\nName \\t ID \\t Dept\")\n",
        "    print(self.name, '\\t', self.id, '\\t', self.dept)\n",
        "\n",
        "# Creating object of a class Employee\n",
        "emp = Employee('Ali', 101)\n",
        "print('Name\\t:', emp.name)\n",
        "emp.display()\n",
        "#Acccessing Class variable\n",
        "Employee.dept = 'web developer'\n",
        "emp.display()"
      ],
      "metadata": {
        "colab": {
          "base_uri": "https://localhost:8080/"
        },
        "id": "fwd15QU_zAEA",
        "outputId": "7baf3133-37d5-46fb-d289-2d617c305738"
      },
      "execution_count": null,
      "outputs": [
        {
          "output_type": "stream",
          "name": "stdout",
          "text": [
            "Name\t: Ali\n",
            "\n",
            "Name \t ID \t Dept\n",
            "Ali \t 101 \t AI/ML\n",
            "\n",
            "Name \t ID \t Dept\n",
            "Ali \t 101 \t web developer\n"
          ]
        }
      ]
    },
    {
      "cell_type": "markdown",
      "source": [
        "**Class Variables**\n",
        "* Shared among all instances of a class.\n",
        "* It is defined at the class level, outside the __init__() method.\n",
        "* All objects of the class share the same value for a class variable unless explicitly overridden in an object.\n",
        "\n",
        "**Instance Variables**\n",
        "\n",
        "* Unique to each object and stored using self.attribute_name.\n",
        "* Defined inside the __init__() method.\n",
        "* Each object maintains its own copy of instance variables, independent of other objects."
      ],
      "metadata": {
        "id": "EubzsW5xpdmG"
      }
    },
    {
      "cell_type": "markdown",
      "source": [
        "###Types of Methods in Python Classes\n",
        "methods define the behavior of a class and its objects. There are three main types of methods in a class:\n",
        "\n",
        "* Instance Methods\n",
        "* Class Methods\n",
        "* Static Methods"
      ],
      "metadata": {
        "id": "leepjk-M_xQO"
      }
    },
    {
      "cell_type": "markdown",
      "source": [
        "###Instance Methods\n",
        "Instance methods operate on instance attributes and require the self parameter.\n",
        "\n",
        "**Key Features:**\n",
        "* Works on specific instances of a class.\n",
        "* Can access and modify instance attributes.\n",
        "* The first parameter is always **self**, which refers to the instance calling the method."
      ],
      "metadata": {
        "id": "I51NVBSFAM_f"
      }
    },
    {
      "cell_type": "code",
      "source": [
        "class Car:\n",
        "    def __init__(self, brand, model):\n",
        "        # Instance attributes\n",
        "        self.brand = brand\n",
        "        self.model = model\n",
        "\n",
        "    # Instance method\n",
        "    def display_info(self):\n",
        "        print(f\"Car: {self.brand} {self.model}\")\n",
        "\n",
        "\n",
        "car1 = Car(\"Toyota\", \"Corolla\")\n",
        "car1.display_info()"
      ],
      "metadata": {
        "colab": {
          "base_uri": "https://localhost:8080/"
        },
        "id": "_S07m0HOAk71",
        "outputId": "7ee5ce25-f1c4-4e04-aedd-b280fab6ad3a"
      },
      "execution_count": null,
      "outputs": [
        {
          "output_type": "stream",
          "name": "stdout",
          "text": [
            "Car: Toyota Corolla\n"
          ]
        }
      ]
    },
    {
      "cell_type": "markdown",
      "source": [
        "###Class method\n",
        "Class methods operate on class attributes instead of instance attributes. They are declared using the **@classmethod** decorator and take **cls** as the first parameter instead of **self**.\n",
        "\n",
        "**Key Features:**\n",
        "* Works on the class level, not on a specific instance.\n",
        "* Can access and modify class attributes but **cannot modify instance attributes directly**.\n",
        "* The first parameter is cls, which refers to the class itself."
      ],
      "metadata": {
        "id": "xDlbDlk2CGfh"
      }
    },
    {
      "cell_type": "code",
      "source": [
        "class Car:\n",
        "    brand = \"Unknown\"  # Class attribute\n",
        "\n",
        "    def __init__(self, model):\n",
        "        self.model = model  # Instance attribute\n",
        "\n",
        "    @classmethod\n",
        "    def set_brand(cls, new_brand):\n",
        "        cls.brand = new_brand  # Modifies class attribute\n",
        "\n",
        "    @classmethod\n",
        "    def get_brand(cls):\n",
        "        return cls.brand  # Returns class attribute\n",
        "\n",
        "# Calling class method without an instance\n",
        "Car.set_brand(\"Honda\")\n",
        "print(Car.get_brand())\n",
        "\n",
        "Car.brand = 'Toyota'\n",
        "print(Car.brand)\n",
        "\n",
        "# Creating an object\n",
        "car1 = Car(\"Civic\")\n",
        "\n",
        "print(car1.brand)"
      ],
      "metadata": {
        "colab": {
          "base_uri": "https://localhost:8080/"
        },
        "id": "WjGv6GmdCtPH",
        "outputId": "400e6ac1-c6c0-4668-e40b-698047e0ffc4"
      },
      "execution_count": null,
      "outputs": [
        {
          "output_type": "stream",
          "name": "stdout",
          "text": [
            "Honda\n",
            "Toyota\n",
            "Toyota\n"
          ]
        }
      ]
    },
    {
      "cell_type": "markdown",
      "source": [
        "###Static Methods\n",
        "\n",
        "Static methods are independent utility functions inside a class. \\\n",
        "They do not modify instance or class attributes and do not require self or cls.\n",
        "\n",
        "**Key Features:**\n",
        "* Used for helper functions inside a class.\n",
        "* Does not access instance attributes (**self**) or class attributes (**cls**).\n",
        "* Defined using the **@staticmethod** decorator.\n",
        "* Can be called directly using the class name without creating object."
      ],
      "metadata": {
        "id": "6QGXYgv5EBac"
      }
    },
    {
      "cell_type": "code",
      "source": [
        "class MathOperations:\n",
        "    @staticmethod\n",
        "    def add(x, y):\n",
        "        return x + y\n",
        "\n",
        "    @staticmethod\n",
        "    def multiply(x, y):\n",
        "        return x * y\n",
        "\n",
        "# Calling static methods directly from the class\n",
        "print(MathOperations.add(5, 5))       # Output: 8\n",
        "print(MathOperations.multiply(5, 3))  # Output: 15\n"
      ],
      "metadata": {
        "colab": {
          "base_uri": "https://localhost:8080/"
        },
        "id": "LmhNvf5cEfjn",
        "outputId": "ce526a89-be24-49a8-9a20-5b90fadbec54"
      },
      "execution_count": null,
      "outputs": [
        {
          "output_type": "stream",
          "name": "stdout",
          "text": [
            "10\n",
            "15\n"
          ]
        }
      ]
    },
    {
      "cell_type": "markdown",
      "source": [
        "##Polimorphism"
      ],
      "metadata": {
        "id": "sjQPxVngs2xS"
      }
    },
    {
      "cell_type": "markdown",
      "source": [
        "###Types of Polymorphism in Python\n",
        "* Method Overriding (Runtime Polymorphism)\n",
        "* Method Overloading (Compile-time Polymorphism - Not Natively Supported in Python, but can be mimicked)\n"
      ],
      "metadata": {
        "id": "TSJdkRBkOopv"
      }
    },
    {
      "cell_type": "markdown",
      "source": [
        "###Method Overriding (Runtime Polymorphism)\n",
        "* Method overriding allows a child class to provide a specific implementation of a method that is already defined in its parent class.\n",
        "\n",
        "* The method in the child class must have the same name and same number of parameters as in the parent class.\n",
        "\n",
        "* When a method is called using an object of the child class, the child class's version is executed instead of the parent class's version.\n",
        "\n",
        "**Key Takeaways:**\n",
        "* The child class redefines the method from the parent class.\n",
        "* The method name remains the same, but the implementation is different in each subclass.\n",
        "* This allows runtime polymorphism, where the method that gets executed depends on the object calling it."
      ],
      "metadata": {
        "id": "1954DXqlO2Gh"
      }
    },
    {
      "cell_type": "code",
      "source": [
        "# Parent class\n",
        "class Animal:\n",
        "    def make_sound(self):\n",
        "        print(\"Animals make different sounds\")\n",
        "\n",
        "# Child class 1\n",
        "class Dog(Animal):\n",
        "    def make_sound(self):  # Overriding the parent class method\n",
        "        print(\"Dog barks\")\n",
        "\n",
        "# Child class 2\n",
        "class Cat(Animal):\n",
        "    def make_sound(self):  # Overriding the parent class method\n",
        "        print(\"Cat meows\")\n",
        "\n",
        "# Creating objects\n",
        "a = Animal()\n",
        "d = Dog()\n",
        "c = Cat()\n",
        "\n",
        "# Calling the overridden method\n",
        "a.make_sound()\n",
        "d.make_sound()\n",
        "c.make_sound()\n"
      ],
      "metadata": {
        "colab": {
          "base_uri": "https://localhost:8080/"
        },
        "id": "iNy6zarqQR26",
        "outputId": "38265956-56cf-4927-8884-cb92a23c3049"
      },
      "execution_count": null,
      "outputs": [
        {
          "output_type": "stream",
          "name": "stdout",
          "text": [
            "Animals make different sounds\n",
            "Dog barks\n",
            "Cat meows\n"
          ]
        }
      ]
    },
    {
      "cell_type": "markdown",
      "source": [
        "###Method Overloading\n",
        "* Method overloading means defining multiple methods with the same name but different numbers or types of parameters.\n",
        "* Python does not support method overloading natively, unlike other languages like Java and C++.\n",
        "* However, it can be mimicked using default arguments or \\*args and **kwargs (variable-length arguments)."
      ],
      "metadata": {
        "id": "o7Zs-puZTlv3"
      }
    },
    {
      "cell_type": "code",
      "source": [
        "class MathOperations:\n",
        "    # Single method handling multiple cases\n",
        "    def add(self, a, b, c=0):\n",
        "        return a + b + c\n",
        "\n",
        "# Creating object\n",
        "math_op = MathOperations()\n",
        "\n",
        "# Calling method with different number of arguments\n",
        "print(math_op.add(2, 3))\n",
        "print(math_op.add(2, 3, 4))"
      ],
      "metadata": {
        "colab": {
          "base_uri": "https://localhost:8080/"
        },
        "id": "aCyUxMeWUOom",
        "outputId": "d4d1ae14-56a7-4093-ea83-2a5668b664b2"
      },
      "execution_count": null,
      "outputs": [
        {
          "output_type": "stream",
          "name": "stdout",
          "text": [
            "5\n",
            "9\n"
          ]
        }
      ]
    },
    {
      "cell_type": "code",
      "source": [
        "class MathOperations:\n",
        "    def add(self, *args):\n",
        "        print(type(args))\n",
        "        return sum(args)\n",
        "\n",
        "# Creating object\n",
        "math_op = MathOperations()\n",
        "\n",
        "# Calling method with different number of arguments\n",
        "print(math_op.add(2, 3))          # Output: 5\n",
        "print(math_op.add(2, 3, 4))       # Output: 9\n",
        "print(math_op.add(1, 2, 3, 4, 5)) # Output: 15\n"
      ],
      "metadata": {
        "colab": {
          "base_uri": "https://localhost:8080/"
        },
        "id": "rR_cjzPvUZQ_",
        "outputId": "acd43d4c-fde0-4e48-eee5-763c62590775"
      },
      "execution_count": null,
      "outputs": [
        {
          "output_type": "stream",
          "name": "stdout",
          "text": [
            "<class 'tuple'>\n",
            "5\n",
            "<class 'tuple'>\n",
            "9\n",
            "<class 'tuple'>\n",
            "15\n"
          ]
        }
      ]
    },
    {
      "cell_type": "markdown",
      "source": [
        "###Operator Overloading\n",
        "* Another important form of polymorphism in Python is operator overloading, where built-in operators like +, -, *, etc., can be customized for user-defined classes.\n",
        "* For example, if you try to add two objects using +, Python will give an error unless you define what + should do for those objects.\n",
        "\n",
        "**In the following code:**\n",
        "* We overloaded the + operator using \\_\\_add\\_\\_().\n",
        "* Now, p1 + p2 adds the x and y values of both points and returns a new Point object."
      ],
      "metadata": {
        "id": "77CvzFBjXLkU"
      }
    },
    {
      "cell_type": "code",
      "source": [
        "class Point:\n",
        "    def __init__(self, x, y):\n",
        "        self.x = x\n",
        "        self.y = y\n",
        "\n",
        "    def __add__(self, other):\n",
        "        return Point(self.x + other.x, self.y + other.y)\n",
        "\n",
        "    def display(self):\n",
        "        print(f\"Point({self.x}, {self.y})\")\n",
        "\n",
        "# Creating two Point objects\n",
        "p1 = Point(3, 4)\n",
        "p2 = Point(2, 6)\n",
        "\n",
        "# Adding two points using the overloaded '+' operator\n",
        "p3 = p1 + p2\n",
        "\n",
        "# Display result\n",
        "p3.display()  # Output: Point(5, 10)\n"
      ],
      "metadata": {
        "id": "caghAkc3bMVl"
      },
      "execution_count": null,
      "outputs": []
    },
    {
      "cell_type": "markdown",
      "source": [
        "![image.png](data:image/png;base64,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)"
      ],
      "metadata": {
        "id": "wvkzzvPRbFRA"
      }
    },
    {
      "cell_type": "markdown",
      "source": [
        "##Encapsulation"
      ],
      "metadata": {
        "id": "VwHiie0auzdS"
      }
    },
    {
      "cell_type": "markdown",
      "source": [
        "* Encapsulation is one of the core concepts of Object-Oriented Programming (OOP) that is used to **restrict direct access** to the internal data of a class and only **allow access through controlled methods**.\n",
        "\n",
        "* It bundles the data (variables) and methods (functions) that operate on the data into a single unit (class).\n",
        "* It prevents unauthorized access and modification, ensuring data security and integrity.\n",
        "* Encapsulation helps in data hiding, which means internal details of how data is stored and modified are hidden from the outside world.\n",
        "\n",
        "**Key Features of Encapsulation**\n",
        "* **Data Hiding** – Internal data is protected from direct modification.\n",
        "* **Controlled Access** – Provides getters and setters to control how data is accessed and modified.\n",
        "* **Security** – Protects sensitive data from being changed unexpectedly.\n",
        "* **Flexibility** – Changes in implementation can be made without affecting external code.\n",
        "* **Code Organization** – Keeps related data and methods together, making it easier to maintain."
      ],
      "metadata": {
        "id": "_zTwYHhBjUOw"
      }
    },
    {
      "cell_type": "markdown",
      "source": [
        "**In Python, encapsulation is implemented using access modifiers:**\n",
        "\n",
        "* **Public Members (self.variable)** – Can be accessed from anywhere.\n",
        "* **Protected Members (self._variable)** – Can be accessed inside the class and subclasses (convention-based).\n",
        "* **Private Members (self.__variable)** – Cannot be accessed directly outside the class."
      ],
      "metadata": {
        "id": "s_xyZf9BkdAH"
      }
    },
    {
      "cell_type": "code",
      "source": [
        "class Car:\n",
        "    def __init__(self, brand, speed, kms_driven):\n",
        "        self.brand = brand   # Public attribute\n",
        "        self._speed = speed  # Protected attribute\n",
        "        self.__kms_driven = kms_driven # private attribute\n",
        "\n",
        "    def display_info(self):\n",
        "        print(f\"Car Brand: {self.brand}, Speed: {self._speed} km/h\")\n",
        "    def set_kms_driven(self, kms_driven):\n",
        "        if kms_driven >= 0:\n",
        "            self.__kms_driven = kms_driven\n",
        "        else:\n",
        "            print(\"Kilometers driven cannot be negative.\")\n",
        "    def get_kms_driven(self):\n",
        "        return self.__kms_driven\n",
        "\n",
        "\n",
        "# Creating an object\n",
        "car1 = Car(\"BMW\", 220, 2250)\n",
        "\n",
        "# Accessing protected attribute (allowed but discouraged)\n",
        "print(car1._speed)  # Output: 220\n",
        "\n",
        "# Modifying protected attribute (allowed but discouraged)\n",
        "car1._speed = 240\n",
        "print(car1._speed)  # Output: 240\n",
        "\n",
        "#Accessing private data members\n",
        "car1.set_kms_driven(52100)\n",
        "print(car1.get_kms_driven() , 'Kms Driven')\n"
      ],
      "metadata": {
        "colab": {
          "base_uri": "https://localhost:8080/"
        },
        "id": "zU_HJq95mo8C",
        "outputId": "7c6824a8-5354-497b-ac52-ed30c058bd1e"
      },
      "execution_count": null,
      "outputs": [
        {
          "output_type": "stream",
          "name": "stdout",
          "text": [
            "220\n",
            "240\n",
            "52100 Kms Driven\n"
          ]
        }
      ]
    },
    {
      "cell_type": "markdown",
      "source": [
        "##Inheritances"
      ],
      "metadata": {
        "id": "vhQIu_A6yE5t"
      }
    },
    {
      "cell_type": "markdown",
      "source": [
        "Inheritance allows a class (child class) to acquire properties and methods of another class (parent class).\n",
        "\n",
        "It supports hierarchical classification and promotes code reuse.\n",
        "***\n",
        "***Types of Inheritence :***\n",
        "* **Single Inheritance:** A child class inherits from a single parent class.\n",
        "* **Multiple Inheritance:** A child class inherits from more than one parent class.\n",
        "* **Multilevel Inheritance:** A child class inherits from a parent class, which in turn inherits from another class.\n",
        "* **Hierarchical Inheritance:** Multiple child classes inherit from a single parent class.\n",
        "* **Hybrid Inheritance:** A combination of two or more types of inheritance."
      ],
      "metadata": {
        "id": "7LFeunMsECMg"
      }
    },
    {
      "cell_type": "code",
      "source": [
        "class Vehicle:\n",
        "    def __init__(self, brand, model):\n",
        "        self.brand = brand\n",
        "        self.model = model\n",
        "\n",
        "    def display_info(self):\n",
        "        print(\"Vehicle Info :\\t\", self.brand, '\\t', self.model)\n",
        "\n",
        "# Single Inheritance\n",
        "class Car(Vehicle):\n",
        "    def __init__(self, brand, model, fuel_type):\n",
        "        super().__init__(brand, model)  # Call parent class constructor\n",
        "        self.fuel_type = fuel_type\n",
        "\n",
        "    def car_details(self):\n",
        "        print(f\"{self.brand} {self.model} runs on {self.fuel_type}.\")\n",
        "        super().display_info()\n",
        "        print(\"Fule Type: \", self.fuel_type)\n",
        "\n",
        "# Multilevel Inheritance\n",
        "class ElectricCar(Car):\n",
        "    def __init__(self, brand, model, fuel_type, battery_capacity):\n",
        "        super().__init__(brand, model, fuel_type)\n",
        "        self.battery_capacity = battery_capacity\n",
        "\n",
        "    def battery_info(self):\n",
        "        super().car_details()\n",
        "        print(\"Battery Capacity:\", self.battery_capacity,  'kWh')\n",
        "\n",
        "# Multiple Inheritance\n",
        "class FlyingVehicle:\n",
        "    def fly(self):\n",
        "        print(\"The vehicle is flying.\")\n",
        "\n",
        "class FlyingCar(Car, FlyingVehicle):  # Multiple Inheritance\n",
        "    def __init__(self, brand, model, fuel_type, flying_ability):\n",
        "        super().__init__(brand, model, fuel_type)\n",
        "        self.flying_ability = flying_ability\n",
        "\n",
        "    def flying_details(self):\n",
        "        print(f\"The {self.brand} {self.model} can fly: {self.flying_ability}.\")\n",
        "\n",
        "# Example Usage\n",
        "vehicle = Vehicle(\"Toyota\", \"Corolla\")\n",
        "vehicle.display_info()\n",
        "print('-'*50)\n",
        "\n",
        "car = Car(\"Honda\", \"Civic\", \"Petrol\")\n",
        "car.display_info()\n",
        "car.car_details()\n",
        "print('-'*50)\n",
        "\n",
        "electric_car = ElectricCar(\"Tesla\", \"Model 3\", \"Electric\", 75)\n",
        "electric_car.display_info()\n",
        "electric_car.car_details()\n",
        "electric_car.battery_info()\n",
        "print('-'*50)\n",
        "\n",
        "flying_car = FlyingCar(\"Aqua\", \"Aero\", \"Hybrid\", True)\n",
        "flying_car.display_info()\n",
        "flying_car.car_details()\n",
        "flying_car.flying_details()\n",
        "flying_car.fly()\n"
      ],
      "metadata": {
        "colab": {
          "base_uri": "https://localhost:8080/"
        },
        "id": "s-ngcl5uFK0u",
        "outputId": "b81c1801-defd-4aa4-da8e-2596a966d8af"
      },
      "execution_count": null,
      "outputs": [
        {
          "output_type": "stream",
          "name": "stdout",
          "text": [
            "Vehicle Info :\t Toyota \t Corolla\n",
            "--------------------------------------------------\n",
            "Vehicle Info :\t Honda \t Civic\n",
            "Honda Civic runs on Petrol.\n",
            "Vehicle Info :\t Honda \t Civic\n",
            "Fule Type:  Petrol\n",
            "--------------------------------------------------\n",
            "Vehicle Info :\t Tesla \t Model 3\n",
            "Tesla Model 3 runs on Electric.\n",
            "Vehicle Info :\t Tesla \t Model 3\n",
            "Fule Type:  Electric\n",
            "Tesla Model 3 runs on Electric.\n",
            "Vehicle Info :\t Tesla \t Model 3\n",
            "Fule Type:  Electric\n",
            "Battery Capacity: 75 kWh\n",
            "--------------------------------------------------\n",
            "Vehicle Info :\t Aqua \t Aero\n",
            "Aqua Aero runs on Hybrid.\n",
            "Vehicle Info :\t Aqua \t Aero\n",
            "Fule Type:  Hybrid\n",
            "The Aqua Aero can fly: True.\n",
            "The vehicle is flying.\n"
          ]
        }
      ]
    },
    {
      "cell_type": "markdown",
      "source": [
        "##Abstraction"
      ],
      "metadata": {
        "id": "UWG1sgi4uxWD"
      }
    },
    {
      "cell_type": "markdown",
      "source": [
        "Abstraction is an OOP principle that hides implementation details and exposes only essential functionalities.\n",
        "\n",
        "* Simplifies complex systems by providing a clear interface.\n",
        "* Reduces code complexity and enhances reusability.\n",
        "* Focuses on what an object does, not how it does it.\n",
        "* Abstract class **cannot be instantiated**\n",
        "* abstract method **must be implemented in chiled** classes\n",
        "\n",
        "\n",
        "**Abstract Class**\\\n",
        "An abstract class is a class that cannot be instantiated and is meant to be inherited by other classes. It serves as a blueprint for child classes.\n",
        "\n",
        "**Abstract Method**\\\n",
        "An abstract method is a method that has no implementation in the parent class and must be implemented in the child class."
      ],
      "metadata": {
        "id": "mm1Y6Almw-Uf"
      }
    },
    {
      "cell_type": "code",
      "source": [
        "from abc import ABC, abstractmethod  # Importing ABC module\n",
        "\n",
        "# Abstract Class\n",
        "class Vehicle(ABC):\n",
        "    def __init__(self, brand):\n",
        "        self.brand = brand\n",
        "\n",
        "    @abstractmethod\n",
        "    def start(self):  # Abstract method (must be implemented in child classes)\n",
        "        pass\n",
        "\n",
        "    @abstractmethod\n",
        "    def stop(self):  # Another abstract method\n",
        "        pass\n",
        "\n",
        "# Concrete Class 1 (Car)\n",
        "class Car(Vehicle):\n",
        "    def start(self):\n",
        "        print(f\"{self.brand} Car is starting with a key ignition.\")\n",
        "\n",
        "    def stop(self):\n",
        "        print(f\"{self.brand} Car is stopping with brakes.\")\n",
        "\n",
        "# Concrete Class 2 (Bike)\n",
        "class Bike(Vehicle):\n",
        "    def start(self):\n",
        "        print(f\"{self.brand} Bike is starting with a self-start button.\")\n",
        "\n",
        "    def stop(self):\n",
        "        print(f\"{self.brand} Bike is stopping with disc brakes.\")\n",
        "\n",
        "# Creating objects\n",
        "car = Car(\"Toyota\")\n",
        "car.start()\n",
        "car.stop()\n",
        "\n",
        "bike = Bike(\"Yamaha\")\n",
        "bike.start()\n",
        "bike.stop()"
      ],
      "metadata": {
        "colab": {
          "base_uri": "https://localhost:8080/"
        },
        "id": "tFXJF8QDm6gx",
        "outputId": "9d5e9efb-5db6-4556-adf4-c4dffe983aaf"
      },
      "execution_count": null,
      "outputs": [
        {
          "output_type": "stream",
          "name": "stdout",
          "text": [
            "Toyota Car is starting with a key ignition.\n",
            "Toyota Car is stopping with brakes.\n",
            "Yamaha Bike is starting with a self-start button.\n",
            "Yamaha Bike is stopping with disc brakes.\n"
          ]
        }
      ]
    },
    {
      "cell_type": "code",
      "source": [
        "# obj = Vehicle('Toyota') # Abstract class cannot be instantiated\n"
      ],
      "metadata": {
        "id": "5QFiGKwtwW3H"
      },
      "execution_count": null,
      "outputs": []
    },
    {
      "cell_type": "markdown",
      "source": [
        "#Implementation All Features"
      ],
      "metadata": {
        "id": "DWQaSceV6YJB"
      }
    },
    {
      "cell_type": "code",
      "source": [
        "from abc import ABC, abstractmethod\n",
        "\n",
        "# Parent Class: Employee (Abstract)\n",
        "class Employee(ABC):\n",
        "    def __init__(self, name, emp_id, department, salary):\n",
        "        self.name = name\n",
        "        self.emp_id = emp_id\n",
        "        self.department = department\n",
        "        self.__salary = salary  # Private attribute\n",
        "\n",
        "    @abstractmethod\n",
        "    def work(self):\n",
        "        \"\"\"Abstract method that must be implemented by child classes\"\"\"\n",
        "        pass\n",
        "\n",
        "    def get_salary(self):\n",
        "        \"\"\"Encapsulation: Method to access private salary\"\"\"\n",
        "        return self.__salary\n",
        "\n",
        "    def display_details(self):\n",
        "        \"\"\"Displays employee details\"\"\"\n",
        "        print(f\"ID: {self.emp_id}, Name: {self.name}, Department: {self.department}, Salary: {self.get_salary()}\")\n",
        "\n",
        "# Child Class: Developer\n",
        "class Developer(Employee):\n",
        "    def __init__(self, name, emp_id, department, salary, programming_language):\n",
        "        super().__init__(name, emp_id, department, salary)\n",
        "        self.programming_language = programming_language\n",
        "\n",
        "    def work(self):\n",
        "        print(f\"{self.name} is coding in {self.programming_language}.\")\n",
        "\n",
        "# Child Class: Manager\n",
        "class Manager(Employee):\n",
        "    def __init__(self, name, emp_id, department, salary, team_size):\n",
        "        super().__init__(name, emp_id, department, salary)\n",
        "        self.team_size = team_size\n",
        "\n",
        "    def work(self):\n",
        "        print(f\"{self.name} is managing a team of {self.team_size} developers.\")\n",
        "\n",
        "# Child Class: Intern\n",
        "class Intern(Employee):\n",
        "    def __init__(self, name, emp_id, department, salary, duration):\n",
        "        super().__init__(name, emp_id, department, salary)\n",
        "        self.duration = duration  # Internship Duration in months\n",
        "\n",
        "    def work(self):\n",
        "        print(f\"{self.name} is an intern learning for {self.duration} months.\")\n",
        "\n",
        "# Creating Objects for Each Employee Type\n",
        "dev = Developer(\"Alice\", 101, \"AI/ML\", 70000, \"Python\")\n",
        "mgr = Manager(\"Bob\", 102, \"Web Development\", 90000, 5)\n",
        "intern = Intern(\"Charlie\", 103, \"HR\", 30000, 6)\n",
        "\n",
        "# Display Employee Details and Work\n",
        "employees = [dev, mgr, intern]\n",
        "\n",
        "for emp in employees:\n",
        "    emp.display_details()\n",
        "    emp.work()\n",
        "    print(\"-\" * 50)\n"
      ],
      "metadata": {
        "colab": {
          "base_uri": "https://localhost:8080/"
        },
        "id": "zTWfDU3v6cp1",
        "outputId": "f4fb6cc3-a1a5-4985-a94f-a97952d99aad"
      },
      "execution_count": null,
      "outputs": [
        {
          "output_type": "stream",
          "name": "stdout",
          "text": [
            "ID: 101, Name: Alice, Department: AI/ML, Salary: 70000\n",
            "Alice is coding in Python.\n",
            "--------------------------------------------------\n",
            "ID: 102, Name: Bob, Department: Web Development, Salary: 90000\n",
            "Bob is managing a team of 5 developers.\n",
            "--------------------------------------------------\n",
            "ID: 103, Name: Charlie, Department: HR, Salary: 30000\n",
            "Charlie is an intern learning for 6 months.\n",
            "--------------------------------------------------\n"
          ]
        }
      ]
    },
    {
      "cell_type": "code",
      "source": [
        "class test:\n",
        "  class_var = 'class Var'\n",
        "  def __init__(self, var):\n",
        "    self.inst_var = var\n",
        "\n",
        "obj1 = test('obj var')\n",
        "obj1.class_var = 'obj var'\n",
        "print(obj1.class_var)\n",
        "print(obj1.inst_var)\n",
        "\n",
        "print(test.class_var)\n",
        "obj2= test('obj var')\n",
        "print(obj2.class_var)"
      ],
      "metadata": {
        "id": "NToO26Rj6fvT",
        "colab": {
          "base_uri": "https://localhost:8080/"
        },
        "outputId": "e8c33a59-111e-40e0-f021-3f000a100284"
      },
      "execution_count": null,
      "outputs": [
        {
          "output_type": "stream",
          "name": "stdout",
          "text": [
            "obj var\n",
            "obj var\n",
            "class Var\n",
            "class Var\n"
          ]
        }
      ]
    },
    {
      "cell_type": "code",
      "source": [
        "obj1.lastName = 'Arif'\n",
        "obj1.lastName"
      ],
      "metadata": {
        "colab": {
          "base_uri": "https://localhost:8080/",
          "height": 36
        },
        "id": "0isqb0qTnVgI",
        "outputId": "92b4c54d-8a49-43b8-b063-364b94fc6e17"
      },
      "execution_count": null,
      "outputs": [
        {
          "output_type": "execute_result",
          "data": {
            "text/plain": [
              "'Arif'"
            ],
            "application/vnd.google.colaboratory.intrinsic+json": {
              "type": "string"
            }
          },
          "metadata": {},
          "execution_count": 14
        }
      ]
    },
    {
      "cell_type": "code",
      "source": [],
      "metadata": {
        "id": "xpFEG1_byhwE"
      },
      "execution_count": null,
      "outputs": []
    }
  ]
}