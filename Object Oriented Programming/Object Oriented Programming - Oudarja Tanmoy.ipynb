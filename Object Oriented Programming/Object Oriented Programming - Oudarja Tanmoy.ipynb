{
 "cells": [
  {
   "cell_type": "markdown",
   "id": "3dafd032-e619-49aa-b5fb-09ebae4de691",
   "metadata": {},
   "source": [
    "## Design Goals and Principles of Object-Oriented Programming\n",
    "\n",
    "The fundamental goal of dealing with the complexity of building modern software naturally gives rise to several sub-goals. These sub-goals are directed at the production of quality software, including good implementations of data structures and algorithms.\n",
    "\n",
    "The three goals of Object-Oriented Programming are:\n",
    "\n",
    "### 1. Robustness\n",
    "The goal of robustness goes beyond just handling unexpected inputs. Software should produce correct solutions even within the known limitations of computers.\n",
    "\n",
    "For example, if a user wishes to store more elements in a data structure than originally expected, then the software should expand the capacity of this structure accordingly. This philosophy is present in the `vector` class in C++’s Standard Template Library, which defines an expandable array.\n",
    "\n",
    "Additionally, numerical computations should be fully represented, avoiding overflows or underflows. Software should ensure correctness for its full range of possible inputs, including boundary cases such as `0`, `1`, or the max/min possible values.\n",
    "\n",
    "> Robustness and correctness must be designed from the beginning—they do not come automatically.\n",
    "\n",
    "### 2. Adaptability\n",
    "Modern software projects—like word processors, web browsers, and search engines—are large and expected to evolve over many years. Therefore, software needs to be flexible and adaptable to changes in its environment over time.\n",
    "\n",
    "### 3. Reusability\n",
    "Reusability goes hand in hand with adaptability. Code should be designed to be reusable in different systems and applications.\n",
    "\n",
    "Developing quality software is expensive. This cost can be justified if the software is made easily reusable in future applications—though reuse should be done with care.\n",
    "\n",
    "---\n",
    "\n",
    "## OOP Principles\n",
    "\n",
    "These principles guide programmers to write clean, maintainable, and bug-free code.\n",
    "\n",
    "### 1. Single Responsibility Principle (SRP)\n",
    "A class should have only one reason to change, meaning it should have only one job or responsibility.\n",
    "\n",
    "### 2. Open-Closed Principle (OCP)\n",
    "Software entities (classes, modules, functions) should be:\n",
    "- Open for **extension**\n",
    "- Closed for **modification**\n",
    "\n",
    "This means we should be able to extend existing code without changing it.\n",
    "\n",
    "### 3. Liskov Substitution Principle (LSP)\n",
    "Objects of a superclass should be replaceable with objects of a subclass **without altering the correctness** of the program.\n",
    "\n",
    "It ensures that derived classes extend the base class without changing their behavior.\n",
    "\n",
    "### 4. Interface Segregation Principle (ISP)\n",
    "Clients should **not be forced to depend on methods they do not use**. Interfaces should be small and specific to the client’s needs.\n",
    "\n",
    "This avoids “fat” interfaces.\n",
    "\n",
    "### 5. Dependency Inversion Principle (DIP)\n",
    "- High-level modules should not depend on low-level modules.\n",
    "- Both should depend on **abstractions**.\n",
    "- Abstractions should not depend on details; details should depend on abstractions.\n",
    "\n",
    "### 6. KISS – *Keep It Simple, Stupid* Principle\n",
    "Avoid unnecessary complexity. The simpler the code, the easier it is to maintain and modify.\n",
    "\n",
    "### 7. DRY – *Don’t Repeat Yourself* Principle\n",
    "Avoid duplication in code. Repeated logic should be extracted and reused via functions, classes, or modules.\n",
    "\n",
    "### 8. YAGNI – *You Ain’t Gonna Need It* Principle\n",
    "Do not implement something unless it is absolutely necessary. Avoid speculative additions that are not currently required.\n",
    "\n",
    "### 9. DI – Dependency Inversion / Dependency Injection\n",
    "This principle deals with reducing **coupling**—the degree of connection between components.\n",
    "\n",
    "Highly coupled systems are rigid and hard to maintain. Using dependency injection or designing with low coupling makes the system more flexible.\n",
    "\n",
    "### 10. Composition Over Inheritance\n",
    "Prefer composing objects with desired behavior rather than inheriting from classes.\n",
    "\n",
    "This approach leads to more flexible and maintainable code by avoiding deep and fragile inheritance trees.\n"
   ]
  },
  {
   "cell_type": "markdown",
   "id": "a47105ce-b3d8-4301-9796-59bed149a11b",
   "metadata": {},
   "source": [
    "### Object-Oriented Programming in Python\n",
    "\n",
    "Object-Oriented Programming is a fundamental concept in Python, empowering developers to build modular, maintainable, and scalable applications. By understanding the core OOP principles—**classes, objects, inheritance, encapsulation, polymorphism, and abstraction**—programmers can leverage the full potential of Python's OOP capabilities to design elegant and efficient solutions to complex problems.\n",
    "\n",
    "---\n",
    "\n",
    "### Key OOP Concepts in Python\n",
    "\n",
    "#### 1. OOPs Concepts in Python\n",
    "OOP in Python is based on the principles of:\n",
    "- **Class**\n",
    "- **Object**\n",
    "- **Polymorphism**\n",
    "- **Encapsulation**\n",
    "- **Inheritance**\n",
    "- **Abstraction**\n",
    "\n",
    "These features enable developers to write reusable and organized code.\n"
   ]
  },
  {
   "cell_type": "markdown",
   "id": "b965c3e5-ddd2-461a-b64c-c5b33e773571",
   "metadata": {},
   "source": [
    "### A **class** is a blueprint for creating objects. It defines attributes and methods that its objects will have."
   ]
  },
  {
   "cell_type": "code",
   "execution_count": 3,
   "id": "25fce6e2-dcaf-4541-9d97-85c3b82bddad",
   "metadata": {},
   "outputs": [
    {
     "name": "stdout",
     "output_type": "stream",
     "text": [
      "Hello, my name is Alice\n"
     ]
    }
   ],
   "source": [
    "class Person:\n",
    "    def __init__(self, name):\n",
    "        self.name = name\n",
    "\n",
    "    def greet(self):\n",
    "        print(f\"Hello, my name is {self.name}\")\n",
    "\n",
    "\n",
    "p = Person(\"Alice\")\n",
    "p.greet() "
   ]
  },
  {
   "cell_type": "markdown",
   "id": "64f505a9-b52a-4858-95cb-aaf51f85d829",
   "metadata": {},
   "source": [
    "## 🔧 The `__init__` Method in Python\n",
    "\n",
    "- The `__init__` method is a **constructor** in Python.\n",
    "- It is **automatically called** when an object of a class is created.\n",
    "- Its main job is to **initialize (set up)** the object’s attributes with values."
   ]
  },
  {
   "cell_type": "code",
   "execution_count": 4,
   "id": "caca1351-fd9c-4366-bce4-248532c1d37f",
   "metadata": {},
   "outputs": [
    {
     "name": "stdout",
     "output_type": "stream",
     "text": [
      "Name: Alice, Roll: 101\n"
     ]
    }
   ],
   "source": [
    "class Student:\n",
    "    def __init__(self, name, roll):\n",
    "        self.name = name       # Instance variable\n",
    "        self.roll = roll\n",
    "\n",
    "    def display(self):\n",
    "        print(f\"Name: {self.name}, Roll: {self.roll}\")\n",
    "\n",
    "# Creating object\n",
    "s1 = Student(\"Alice\", 101)\n",
    "s1.display()  # Output: Name: Alice, Roll: 101\n"
   ]
  },
  {
   "cell_type": "markdown",
   "id": "29a1be59-4ae9-4cd4-ad0a-83f5ad636d88",
   "metadata": {},
   "source": [
    "### Inheritance allows one class (child) to inherit attributes and methods from another class (parent)."
   ]
  },
  {
   "cell_type": "code",
   "execution_count": 5,
   "id": "cc542022-7f29-4799-a7b2-7f93bd93ff9b",
   "metadata": {},
   "outputs": [
    {
     "name": "stdout",
     "output_type": "stream",
     "text": [
      "Animal speaks\n",
      "Dog barks\n"
     ]
    }
   ],
   "source": [
    "# 2. Inheritance\n",
    "class Animal:\n",
    "    def speak(self):\n",
    "        print(\"Animal speaks\")\n",
    "\n",
    "class Dog(Animal):\n",
    "    def bark(self):\n",
    "        print(\"Dog barks\")\n",
    "\n",
    "d = Dog()\n",
    "d.speak()  # Inherited method\n",
    "d.bark()\n"
   ]
  },
  {
   "cell_type": "markdown",
   "id": "d6c8a885-b168-41ad-8101-d0bf7a3e3021",
   "metadata": {},
   "source": [
    "## 1️⃣ Single Inheritance\n",
    "\n",
    "One child class inherits from one parent class."
   ]
  },
  {
   "cell_type": "code",
   "execution_count": 6,
   "id": "09b08c80-252d-4865-bd06-10f8fc79a0b8",
   "metadata": {},
   "outputs": [
    {
     "name": "stdout",
     "output_type": "stream",
     "text": [
      "Hello from Parent\n",
      "Child class here\n"
     ]
    }
   ],
   "source": [
    "class Parent:\n",
    "    def greet(self):\n",
    "        print(\"Hello from Parent\")\n",
    "\n",
    "class Child(Parent):\n",
    "    def display(self):\n",
    "        print(\"Child class here\")\n",
    "\n",
    "obj = Child()\n",
    "obj.greet()\n",
    "obj.display()"
   ]
  },
  {
   "cell_type": "markdown",
   "id": "81a10f5f-46be-4e1e-89d7-1982e4361e1a",
   "metadata": {},
   "source": [
    "## 2️⃣ Multiple Inheritance\n",
    "A child class inherits from more than one parent class."
   ]
  },
  {
   "cell_type": "code",
   "execution_count": 7,
   "id": "1d3361de-5679-44d2-a9a2-3a4737af5eb6",
   "metadata": {},
   "outputs": [
    {
     "name": "stdout",
     "output_type": "stream",
     "text": [
      "Father: Guitar\n"
     ]
    }
   ],
   "source": [
    "class Father:\n",
    "    def skills(self):\n",
    "        print(\"Father: Guitar\")\n",
    "\n",
    "class Mother:\n",
    "    def skills(self):\n",
    "        print(\"Mother: Painting\")\n",
    "\n",
    "class Child(Father, Mother):\n",
    "    pass\n",
    "\n",
    "obj = Child()\n",
    "obj.skills()  # Output: Father: Guitar (depends on MRO)\n"
   ]
  },
  {
   "cell_type": "markdown",
   "id": "a172158a-c312-480c-aec5-26b5e4333d99",
   "metadata": {},
   "source": [
    "## 🧠 Method Resolution Order (MRO)\n",
    "\n",
    "### What is MRO?\n",
    "- **MRO (Method Resolution Order)** is the order in which Python looks for a method or attribute when **multiple classes are inherited**.\n",
    "- Python uses MRO to decide which class method or attribute to use when a method is called on an object of a class that has inherited from multiple parents.\n"
   ]
  },
  {
   "cell_type": "markdown",
   "id": "a800983c-abfe-4910-8d1b-4cd588b8dc92",
   "metadata": {},
   "source": [
    "### 3️⃣ Multilevel Inheritance\n",
    "A class inherits from a child class, which itself inherited from another class (grandparent → parent → child)."
   ]
  },
  {
   "cell_type": "code",
   "execution_count": 8,
   "id": "16821623-b68e-444b-ac60-630b12f45780",
   "metadata": {},
   "outputs": [
    {
     "name": "stdout",
     "output_type": "stream",
     "text": [
      "Grandparent class\n",
      "Parent class\n",
      "Child class\n"
     ]
    }
   ],
   "source": [
    "class Grandparent:\n",
    "    def origin(self):\n",
    "        print(\"Grandparent class\")\n",
    "\n",
    "class Parent(Grandparent):\n",
    "    def middle(self):\n",
    "        print(\"Parent class\")\n",
    "\n",
    "class Child(Parent):\n",
    "    def last(self):\n",
    "        print(\"Child class\")\n",
    "\n",
    "obj = Child()\n",
    "obj.origin()\n",
    "obj.middle()\n",
    "obj.last()\n"
   ]
  },
  {
   "cell_type": "markdown",
   "id": "1933b98f-bd3d-4b64-975b-36a6698c4970",
   "metadata": {},
   "source": [
    "### 4️⃣ Hierarchical Inheritance\n",
    "Multiple child classes inherit from a single parent class."
   ]
  },
  {
   "cell_type": "code",
   "execution_count": 9,
   "id": "21adf8a6-24a3-471a-b5b6-898fdc57d6c0",
   "metadata": {},
   "outputs": [
    {
     "name": "stdout",
     "output_type": "stream",
     "text": [
      "Speaking from Parent\n",
      "Speaking from Parent\n"
     ]
    }
   ],
   "source": [
    "class Parent:\n",
    "    def speak(self):\n",
    "        print(\"Speaking from Parent\")\n",
    "\n",
    "class Child1(Parent):\n",
    "    def c1(self):\n",
    "        print(\"Child 1\")\n",
    "\n",
    "class Child2(Parent):\n",
    "    def c2(self):\n",
    "        print(\"Child 2\")\n",
    "\n",
    "obj1 = Child1()\n",
    "obj2 = Child2()\n",
    "obj1.speak()\n",
    "obj2.speak()\n"
   ]
  },
  {
   "cell_type": "markdown",
   "id": "99538050-5eff-4831-b437-f16635dc56b9",
   "metadata": {},
   "source": [
    "### 5️⃣ Hybrid Inheritance\n",
    "A combination of two or more types of inheritance."
   ]
  },
  {
   "cell_type": "code",
   "execution_count": 10,
   "id": "df3aca53-f1bd-4f81-827f-d31f1e386046",
   "metadata": {},
   "outputs": [
    {
     "name": "stdout",
     "output_type": "stream",
     "text": [
      "A\n",
      "C\n",
      "D\n"
     ]
    }
   ],
   "source": [
    "class A:\n",
    "    def methodA(self):\n",
    "        print(\"A\")\n",
    "\n",
    "class B(A):\n",
    "    def methodB(self):\n",
    "        print(\"B\")\n",
    "\n",
    "class C:\n",
    "    def methodC(self):\n",
    "        print(\"C\")\n",
    "\n",
    "class D(B, C):  # Hybrid (Multilevel + Multiple)\n",
    "    def methodD(self):\n",
    "        print(\"D\")\n",
    "\n",
    "obj = D()\n",
    "obj.methodA()\n",
    "obj.methodC()\n",
    "obj.methodD()\n"
   ]
  },
  {
   "cell_type": "markdown",
   "id": "29dd4d89-e45b-4a33-86ee-e5c170e6a4fb",
   "metadata": {},
   "source": [
    "## 🔐 Encapsulation in Python\n",
    "\n",
    "### What is Encapsulation?\n",
    "Encapsulation is one of the **fundamental concepts** of Object-Oriented Programming (OOP). It is the practice of **restricting access** to some of an object's components to prevent unintended interference and misuse. In Python, this is typically done by **hiding the internal state** and requiring all interaction with the object to be done through methods (getters and setters).\n",
    "\n",
    "### Why Encapsulation?\n",
    "- **Data hiding**: Encapsulation helps hide the internal state of an object and only expose a controlled interface to interact with it.\n",
    "- **Control access**: It ensures that only specific methods can modify an object's state, which provides **better security** and **predictable behavior**.\n",
    "- **Reduce complexity**: By hiding the complexity, encapsulation makes the object easier to use and less error-prone.\n",
    "\n",
    "---\n",
    "\n",
    "### How to Implement Encapsulation in Python?\n",
    "\n",
    "In Python, encapsulation is achieved by **using private and public access modifiers**.\n",
    "\n",
    "- **Public members** can be accessed from outside the class.\n",
    "- **Private members** (denoted by `__`) cannot be accessed directly from outside the class. These are meant to be internal to the class.\n",
    "\n",
    "\n",
    "## 🛡️ Protected Members in Python\n",
    "\n",
    "### What are Protected Members?\n",
    "\n",
    "In Python, the **protected** members are a **convention** used to indicate that a member (variable or method) should not be accessed directly outside the class. The **protected** members are intended for use within the class and its **subclasses**.\n",
    "\n",
    "In Python, the convention for protected members is to use a **single underscore prefix (`_`)**.\n",
    "\n",
    "- **Protected members** are **not strictly private**; they are just protected by convention. Unlike **private members**, they can still be accessed directly from outside the class, but it’s generally discouraged.\n",
    "- The idea is to **signal** that a member is meant to be used only by the class and its subclasses.\n",
    "\n",
    "---\n",
    "\n",
    "### Why Use Protected Members?\n",
    "- **Indicate restricted access**: A single underscore (`_`) tells developers that the attribute or method should be considered **internal** to the class or subclass.\n",
    "- **Support inheritance**: Protected members can be accessed in subclasses (unlike private members, which can’t).\n",
    "- **Maintain flexibility**: They allow subclasses to access or modify the member when needed, while still signaling that it’s intended to be internal.\n",
    "\n"
   ]
  },
  {
   "cell_type": "code",
   "execution_count": 11,
   "id": "634216c0-16e8-461e-8e51-af8d59b5fad6",
   "metadata": {},
   "outputs": [
    {
     "name": "stdout",
     "output_type": "stream",
     "text": [
      "Account Holder: John\n",
      "Balance: 1000\n",
      "Updated Balance: 1500\n",
      "Pin is correct!\n",
      "Invalid Pin\n"
     ]
    }
   ],
   "source": [
    "class Account:\n",
    "    def __init__(self, name, balance):\n",
    "        self.name = name              # Public attribute\n",
    "        self._balance = balance       # Protected attribute\n",
    "        self.__pin = \"1234\"           # Private attribute\n",
    "\n",
    "    # Public method\n",
    "    def deposit(self, amount):\n",
    "        self._balance += amount\n",
    "\n",
    "    # Public method\n",
    "    def get_balance(self):\n",
    "        return self._balance\n",
    "\n",
    "    # Private method\n",
    "    def __check_pin(self, pin):\n",
    "        if pin == self.__pin:\n",
    "            return True\n",
    "        else:\n",
    "            return False\n",
    "\n",
    "    # Public method to authenticate the pin\n",
    "    def authenticate(self, pin):\n",
    "        if self.__check_pin(pin):\n",
    "            print(\"Pin is correct!\")\n",
    "        else:\n",
    "            print(\"Invalid Pin\")\n",
    "\n",
    "# Creating an object of the Account class\n",
    "acc = Account(\"John\", 1000)\n",
    "\n",
    "# Accessing public attribute\n",
    "print(\"Account Holder:\", acc.name)  # Output: Account Holder: John\n",
    "\n",
    "# Accessing protected attribute (discouraged, but allowed)\n",
    "print(\"Balance:\", acc._balance)  # Output: Balance: 1000\n",
    "\n",
    "# Accessing private attribute directly (will raise an error)\n",
    "# print(acc.__pin)  # Uncommenting this line will result in an AttributeError\n",
    "\n",
    "# Using public method to interact with the object\n",
    "acc.deposit(500)\n",
    "print(\"Updated Balance:\", acc.get_balance())  # Output: Updated Balance: 1500\n",
    "\n",
    "# Using the authenticate method (checking private method functionality)\n",
    "acc.authenticate(\"1234\")  # Output: Pin is correct!\n",
    "acc.authenticate(\"0000\")  # Output: Invalid Pin\n"
   ]
  },
  {
   "cell_type": "markdown",
   "id": "01a311b6-e848-4b3a-a4cc-67ab1bad541b",
   "metadata": {},
   "source": [
    "### Polymorphism in Python\n",
    "\n",
    "Polymorphism is one of the key concepts of **Object-Oriented Programming (OOP)**. It allows objects of different classes to be treated as objects of a common superclass. However, it also allows methods to have the same name but behave differently based on the object calling them.\n",
    "\n",
    "In simpler terms, **polymorphism** allows the same method or function to behave differently based on the object (or class) invoking it. This concept is especially useful when working with **inheritance**, allowing subclasses to provide specific implementations of methods that are common across multiple classes.\n",
    "\n",
    "---\n",
    "\n",
    "### Types of Polymorphism\n",
    "\n",
    "1. **Method Overloading**:\n",
    "   - In Python, we don't have true method overloading like some other languages, but we can achieve similar behavior by defining methods that handle varying numbers of arguments.\n",
    "\n",
    "2. **Method Overriding**:\n",
    "   - This is where a **subclass** defines a method that **overrides** a method in its **superclass** with a different implementation.\n",
    "\n",
    "---"
   ]
  },
  {
   "cell_type": "code",
   "execution_count": 12,
   "id": "2f51ba2c-a504-407e-819e-e0b250d0e6dd",
   "metadata": {},
   "outputs": [
    {
     "name": "stdout",
     "output_type": "stream",
     "text": [
      "Woof\n",
      "Meow\n",
      "Moo\n"
     ]
    }
   ],
   "source": [
    "class Animal:\n",
    "    def sound(self):\n",
    "        print(\"Some generic animal sound\")\n",
    "\n",
    "class Dog(Animal):\n",
    "    def sound(self):  # Overriding the sound method\n",
    "        print(\"Woof\")\n",
    "\n",
    "class Cat(Animal):\n",
    "    def sound(self):  # Overriding the sound method\n",
    "        print(\"Meow\")\n",
    "\n",
    "class Cow(Animal):\n",
    "    def sound(self):  # Overriding the sound method\n",
    "        print(\"Moo\")\n",
    "\n",
    "# Creating instances of each class\n",
    "animals = [Dog(), Cat(), Cow()]\n",
    "\n",
    "# Polymorphism in action: The same method call behaves differently based on the object type\n",
    "for animal in animals:\n",
    "    animal.sound()  # Each object calls its own version of the sound() method\n"
   ]
  },
  {
   "cell_type": "markdown",
   "id": "20ee3e19-656b-476b-8a17-c0bf9af010e0",
   "metadata": {},
   "source": [
    "### Overloading in python "
   ]
  },
  {
   "cell_type": "code",
   "execution_count": 13,
   "id": "f7f5a958-5236-4014-9210-2d3d3ca723f5",
   "metadata": {},
   "outputs": [
    {
     "name": "stdout",
     "output_type": "stream",
     "text": [
      "6\n",
      "30\n",
      "30\n"
     ]
    }
   ],
   "source": [
    "def add_numbers(*args):\n",
    "    return sum(args)\n",
    "\n",
    "# Calling the function with different numbers of arguments\n",
    "print(add_numbers(1, 2, 3))         # Output: 6\n",
    "print(add_numbers(4, 5, 6, 7, 8))   # Output: 30\n",
    "print(add_numbers(10, 20))          # Output: 30\n"
   ]
  },
  {
   "cell_type": "markdown",
   "id": "313daf53-37e5-4ff1-81de-b2dc5b21ae53",
   "metadata": {},
   "source": [
    "### `*args` in Python\n",
    "\n",
    "In Python, `*args` is used to pass a variable number of arguments to a function. It allows a function to accept any number of **positional arguments** (arguments that are passed without a keyword) as a **tuple**.\n",
    "\n",
    "### Why Use `*args`?\n",
    "\n",
    "When you don't know in advance how many arguments will be passed to a function, you can use `*args` to collect all positional arguments into a tuple. This is useful in scenarios where the number of arguments can vary.\n"
   ]
  },
  {
   "cell_type": "markdown",
   "id": "3396e2d6-6ea5-44a9-9ba5-8207c4764671",
   "metadata": {},
   "source": [
    "### How Does `*args` Work?\n",
    "The *args syntax collects all the extra positional arguments passed to a function into a tuple.\n",
    "args is just a convention. You could use any name (like *varargs, but *args is standard practice)."
   ]
  },
  {
   "cell_type": "markdown",
   "id": "890104ae-7362-4068-bf75-4751bd36c091",
   "metadata": {},
   "source": [
    "# ✅ Polymorphism in Python\n",
    "\n",
    "Polymorphism allows the same interface or method to behave differently depending on the context (object type or arguments). Python supports:\n",
    "\n",
    "- ✅ **Run-Time Polymorphism** (Method Overriding)\n",
    "- ✅ **Compile-Time Polymorphism** (Simulated using default arguments / `*args`)\n",
    "\n",
    "---\n",
    "\n",
    "## ✅ 1. Run-Time Polymorphism (Method Overriding)\n",
    "\n",
    "- Achieved through **inheritance** and **method overriding**.\n",
    "- The method executed is determined at **runtime** based on the **actual object**.\n",
    "- Common in class hierarchies where child classes override parent methods."
   ]
  },
  {
   "cell_type": "code",
   "execution_count": 1,
   "id": "6bd5148a-cd09-4896-b86e-ec0cc2a02f29",
   "metadata": {},
   "outputs": [
    {
     "name": "stdout",
     "output_type": "stream",
     "text": [
      "dog sound\n",
      "Labrador woofs\n",
      "Beagle Barks\n",
      "15\n",
      "30\n"
     ]
    }
   ],
   "source": [
    "# Parent Class\n",
    "class Dog:\n",
    "    def sound(self):\n",
    "        print(\"dog sound\")  # Default implementation\n",
    "\n",
    "# Run-Time Polymorphism: Method Overriding\n",
    "class Labrador(Dog):\n",
    "    def sound(self):\n",
    "        print(\"Labrador woofs\")  # Overriding parent method\n",
    "\n",
    "class Beagle(Dog):\n",
    "    def sound(self):\n",
    "        print(\"Beagle Barks\")  # Overriding parent method\n",
    "\n",
    "# Compile-Time Polymorphism: Method Overloading Mimic\n",
    "class Calculator:\n",
    "    def add(self, a, b=0, c=0):\n",
    "        return a + b + c  # Supports multiple ways to call add()\n",
    "\n",
    "# Run-Time Polymorphism\n",
    "dogs = [Dog(), Labrador(), Beagle()]\n",
    "for dog in dogs:\n",
    "    dog.sound()  # Calls the appropriate method based on the object type\n",
    "\n",
    "\n",
    "# Compile-Time Polymorphism (Mimicked using default arguments)\n",
    "calc = Calculator()\n",
    "print(calc.add(5, 10))  # Two arguments\n",
    "print(calc.add(5, 10, 15))  # Three arguments\n"
   ]
  },
  {
   "cell_type": "markdown",
   "id": "60c2398e-71da-4e74-a7c0-ded42126fa9c",
   "metadata": {},
   "source": [
    "### Abstraction in Python\n",
    "\n",
    "Abstraction is one of the fundamental principles of **Object-Oriented Programming (OOP)**. It is the concept of **hiding the complex implementation details** of a system and exposing only the **necessary and relevant information** to the user. This simplifies interaction with the system and makes the code more maintainable and user-friendly.\n",
    "\n",
    "` In Python, abstraction can be achieved using **abstract classes** and **abstract methods**. Python provides the `abc` (Abstract Base Class) module to define abstract classes and methods.`\n",
    "\n",
    "---\n",
    "\n",
    "### Key Concepts of Abstraction:\n",
    "\n",
    "#### **Abstract Classes:**\n",
    "- An abstract class is a class that **cannot be instantiated** on its own. It is meant to be subclassed by other classes.\n",
    "- It may contain **abstract methods** (methods without implementation), which must be implemented by subclasses.\n",
    "\n",
    "#### **Abstract Methods:**\n",
    "- An abstract method is a method that is declared in an abstract class but contains **no implementation**. It only provides a method signature that must be implemented in subclasses.\n",
    "\n",
    "---\n",
    "\n",
    "### How to Implement Abstraction in Python:\n",
    "\n",
    "To implement abstraction in Python:\n",
    "\n",
    "1. **Using the `abc` module:**\n",
    "   - Import the `ABC` class and `abstractmethod` decorator from the `abc` module.\n",
    "   - Define an abstract class by inheriting from `ABC`.\n",
    "   - Mark methods as abstract using the `@abstractmethod` decorator.\n",
    "\n",
    "---\n",
    "\n",
    "*** `In Python, there is no direct concept of an interface like in some other programming languages (e.g., Java). However, Python supports interfaces using Abstract Base Classes (ABCs), which allow you to define methods that must be implemented by any subclass. This is Python's way of implementing an interface-like behavior.`"
   ]
  },
  {
   "cell_type": "code",
   "execution_count": 14,
   "id": "4c52c58d-708d-4b48-a55f-0cb4b6be4561",
   "metadata": {},
   "outputs": [
    {
     "name": "stdout",
     "output_type": "stream",
     "text": [
      "Woof!\n",
      "The dog runs.\n",
      "Meow!\n",
      "The cat jumps.\n"
     ]
    }
   ],
   "source": [
    "# From abc module ABC class and abstractmethod decorator have been imported\n",
    "from abc import ABC, abstractmethod\n",
    "\n",
    "# Abstract Class\n",
    "class Animal(ABC):\n",
    "    @abstractmethod\n",
    "    def sound(self):\n",
    "        pass  # No implementation, subclass must implement this method\n",
    "\n",
    "    @abstractmethod\n",
    "    def move(self):\n",
    "        pass  # No implementation, subclass must implement this method\n",
    "\n",
    "# Subclass 1\n",
    "class Dog(Animal):\n",
    "    def sound(self):\n",
    "        print(\"Woof!\")\n",
    "\n",
    "    def move(self):\n",
    "        print(\"The dog runs.\")\n",
    "\n",
    "# Subclass 2\n",
    "class Cat(Animal):\n",
    "    def sound(self):\n",
    "        print(\"Meow!\")\n",
    "\n",
    "    def move(self):\n",
    "        print(\"The cat jumps.\")\n",
    "\n",
    "# Creating objects of subclasses\n",
    "dog = Dog()\n",
    "dog.sound()  # Output: Woof!\n",
    "dog.move()   # Output: The dog runs.\n",
    "\n",
    "cat = Cat()\n",
    "cat.sound()  # Output: Meow!\n",
    "cat.move()   # Output: The cat jumps.\n"
   ]
  },
  {
   "cell_type": "markdown",
   "id": "3203086b-efaf-4fd2-86e9-d04bae85a101",
   "metadata": {},
   "source": [
    "`The above class has only abstract method so it is full abstraction when there is both abstract method and concrete that is called partial abstraction`"
   ]
  },
  {
   "cell_type": "code",
   "execution_count": 2,
   "id": "5dc2dd6d-15ce-433f-8367-07cbf91d9d24",
   "metadata": {},
   "outputs": [
    {
     "name": "stdout",
     "output_type": "stream",
     "text": [
      "Dog's Name: Buddy\n",
      "Labrador Woof!\n",
      "Dog's Name: Charlie\n",
      "Beagle Bark!\n"
     ]
    }
   ],
   "source": [
    "from abc import ABC, abstractmethod\n",
    "\n",
    "class Dog(ABC):  # Abstract Class\n",
    "    def __init__(self, name):\n",
    "        self.name = name\n",
    "\n",
    "    @abstractmethod\n",
    "    def sound(self):  # Abstract Method\n",
    "        pass\n",
    "\n",
    "    def display_name(self):  # Concrete Method\n",
    "        print(f\"Dog's Name: {self.name}\")\n",
    "\n",
    "class Labrador(Dog):  # Partial Abstraction\n",
    "    def sound(self):\n",
    "        print(\"Labrador Woof!\")\n",
    "\n",
    "class Beagle(Dog):  # Partial Abstraction\n",
    "    def sound(self):\n",
    "        print(\"Beagle Bark!\")\n",
    "\n",
    "# Example Usage\n",
    "dogs = [Labrador(\"Buddy\"), Beagle(\"Charlie\")]\n",
    "for dog in dogs:\n",
    "    dog.display_name()  # Calls concrete method\n",
    "    dog.sound()  # Calls implemented abstract method\n"
   ]
  },
  {
   "cell_type": "markdown",
   "id": "7bea7f04-0a59-4ed5-9f91-e855604a0bbf",
   "metadata": {},
   "source": [
    "# 🧩 `super()` Keyword in Python OOP\n",
    "\n",
    "The `super()` function in Python is used to call methods from a **parent class** in a child class.\n",
    "\n",
    "---\n",
    "\n",
    "## ✅ Why Use `super()`?\n",
    "\n",
    "- Access the **parent class methods** inside a child class.\n",
    "- Supports **code reusability** and avoids hardcoding the parent class name.\n",
    "- Helps in **multiple inheritance** to properly resolve the **Method Resolution Order (MRO)**.\n"
   ]
  },
  {
   "cell_type": "code",
   "execution_count": 4,
   "id": "8035e044-89ff-4c50-9faf-e3e3e4997284",
   "metadata": {},
   "outputs": [
    {
     "name": "stdout",
     "output_type": "stream",
     "text": [
      "Animal created with name: Charlie\n",
      "Dog created with breed: Labrador\n"
     ]
    }
   ],
   "source": [
    "class Animal:\n",
    "    def __init__(self, name):\n",
    "        self.name = name\n",
    "        print(f\"Animal created with name: {self.name}\")\n",
    "\n",
    "class Dog(Animal):\n",
    "    def __init__(self, name, breed):\n",
    "        super().__init__(name)  # Call parent class constructor\n",
    "        self.breed = breed\n",
    "        print(f\"Dog created with breed: {self.breed}\")\n",
    "\n",
    "d = Dog(\"Charlie\", \"Labrador\")\n"
   ]
  },
  {
   "cell_type": "code",
   "execution_count": null,
   "id": "22c800db-3ca7-4df6-a9ae-d39d56b8e59a",
   "metadata": {},
   "outputs": [],
   "source": []
  }
 ],
 "metadata": {
  "kernelspec": {
   "display_name": "Python 3 (ipykernel)",
   "language": "python",
   "name": "python3"
  },
  "language_info": {
   "codemirror_mode": {
    "name": "ipython",
    "version": 3
   },
   "file_extension": ".py",
   "mimetype": "text/x-python",
   "name": "python",
   "nbconvert_exporter": "python",
   "pygments_lexer": "ipython3",
   "version": "3.12.9"
  }
 },
 "nbformat": 4,
 "nbformat_minor": 5
}
