{
  "nbformat": 4,
  "nbformat_minor": 5,
  "metadata": {
    "kernelspec": {
      "display_name": "Python 3",
      "language": "python",
      "name": "python3"
    },
    "language_info": {
      "codemirror_mode": {
        "name": "ipython",
        "version": 3
      },
      "file_extension": ".py",
      "mimetype": "text/x-python",
      "name": "python",
      "nbconvert_exporter": "python",
      "pygments_lexer": "ipython3",
      "version": "3.9.7"
    },
    "colab": {
      "provenance": []
    }
  },
  "cells": [
    {
      "cell_type": "markdown",
      "metadata": {
        "id": "HRSYGSPdn81R"
      },
      "source": [
        "# Object-Oriented Programming (OOP) in Python\n"
      ],
      "id": "HRSYGSPdn81R"
    },
    {
      "cell_type": "markdown",
      "metadata": {
        "id": "ZzT0V-zjn81T"
      },
      "source": [
        "### **What is OOP?**\n",
        "*Object-Oriented Programming (OOP)* is a programming paradigm that groups related functions and variables under a single unit known as *Classes* and *Objects* to streamline the coding experience and mitigate \"Spaghetti Code\".\n",
        "\n",
        "- **Class**: A template for creating *Objects*, defined by *Properties* and *Methods*.\n",
        "- **Object**: An instance of a *Class*. A single *Class* may have multiple *Objects*.\n",
        "- **Properties**: Variables belonging to an *Object*.\n",
        "- **Methods**: Functions belonging to an *Object*.\n",
        "\n",
        "**Important**: *Methods* are superior to typical functions because they operate on the *Properties* of the *Object*, reducing the need for passing many parameters. This makes the code easier to maintain and use.\n",
        "\n",
        "**Constructor**: A special *Method* used to ensure *Objects* initialize with valid values (`__init__` in Python)."
      ],
      "id": "ZzT0V-zjn81T"
    },
    {
      "cell_type": "markdown",
      "source": [
        "**Example:**"
      ],
      "metadata": {
        "id": "-vEkVRrXoTz_"
      },
      "id": "-vEkVRrXoTz_"
    },
    {
      "cell_type": "code",
      "source": [
        "# Class\n",
        "class Employee:\n",
        "    def __init__(self, base_salary, overtime, rate):\n",
        "        # Properties\n",
        "        self.base_salary = base_salary\n",
        "        self.overtime = overtime\n",
        "        self.rate = rate\n",
        "\n",
        "    # Method\n",
        "    def get_wage(self):\n",
        "        return self.base_salary + (self.overtime * self.rate)\n",
        "\n",
        "\n",
        "# Object\n",
        "emp1 = Employee(base_salary=30000, overtime=10, rate=20)\n",
        "\n",
        "# Method call\n",
        "print(emp1.get_wage())\n"
      ],
      "metadata": {
        "colab": {
          "base_uri": "https://localhost:8080/"
        },
        "id": "qSXAx7mPoR8O",
        "outputId": "6e1a28e8-2a85-4330-eb91-f176f01164b5"
      },
      "id": "qSXAx7mPoR8O",
      "execution_count": null,
      "outputs": [
        {
          "output_type": "stream",
          "name": "stdout",
          "text": [
            "30200\n"
          ]
        }
      ]
    },
    {
      "cell_type": "markdown",
      "metadata": {
        "id": "DYnidhL0n81U"
      },
      "source": [
        "### **The Four Pillars of OOP**"
      ],
      "id": "DYnidhL0n81U"
    },
    {
      "cell_type": "markdown",
      "metadata": {
        "id": "hdXgoj84n81U"
      },
      "source": [
        "#### 1. **Encapsulation**\n",
        "Encapsulation is the grouping of *Variables* and *Methods* into one unit (*Class*) without granting direct access to them. It reduces complexity, increases scalability and reusability, and keeps information safe.\n",
        "\n",
        "- **Public**: Gives unrestricted access to all *Methods* and *Properties*, allowing them to be manipulated from anywhere. This is the default in Python.\n",
        "- **Protected**: Grants access to *Methods* and *Properties* only within the *Class* and its subclasses. Uses a single underscore (`_`) to indicate protected members (e.g., `_variable`).\n",
        "- **Private**: Access is restricted to the *Class* itself. Cannot be accessed or modified directly, even by subclasses. Uses double underscores (`__`) to indicate private members (e.g., `__variable`). Private members can only be accessed or modified using getter and setter *Methods*."
      ],
      "id": "hdXgoj84n81U"
    },
    {
      "cell_type": "code",
      "execution_count": null,
      "metadata": {
        "colab": {
          "base_uri": "https://localhost:8080/"
        },
        "id": "ibrEmHyJn81V",
        "outputId": "fa12bf89-fb53-45a7-bbab-78ff3dc698bf"
      },
      "outputs": [
        {
          "output_type": "stream",
          "name": "stdout",
          "text": [
            "Female\n",
            "Name: Alice, Age: 30\n",
            "Alicia\n"
          ]
        }
      ],
      "source": [
        "class Person:\n",
        "    def __init__(self, name, age, gender):\n",
        "        self.__name = name  # Private *Property*\n",
        "        self._age = age     # Protected *Property*\n",
        "        self.gender = gender # Public *Property*\n",
        "\n",
        "    # Getter *Method*\n",
        "    def get_name(self):\n",
        "        return self.__name\n",
        "\n",
        "    # Setter *Method*\n",
        "    def set_name(self, new_name):\n",
        "        if isinstance(new_name, str):\n",
        "            self.__name = new_name\n",
        "\n",
        "    # Public *Method*\n",
        "    def display_info(self):\n",
        "        print(f\"Name: {self.__name}, Age: {self._age}\")\n",
        "\n",
        "person1 = Person(\"Alice\", 30, \"Female\")\n",
        "print(person1.gender) # Acessible\n",
        "# print(person1.name) # Not Accessible\n",
        "person1.display_info()  # Accessible by public method\n",
        "person1.set_name(\"Alicia\")\n",
        "print(person1.get_name())  # Accessible only using getter"
      ],
      "id": "ibrEmHyJn81V"
    },
    {
      "cell_type": "markdown",
      "metadata": {
        "id": "UT4xKfUVn81V"
      },
      "source": [
        "#### 2. **Abstraction**\n",
        "Abstraction hides the internal details of a *Class* and exposes only the necessary *Features*, simplifying the interface and reducing the impact of changes"
      ],
      "id": "UT4xKfUVn81V"
    },
    {
      "cell_type": "code",
      "execution_count": null,
      "metadata": {
        "colab": {
          "base_uri": "https://localhost:8080/"
        },
        "id": "Njz6ElLin81V",
        "outputId": "5e6b3cec-cdb3-4c78-c509-e31d5e9693a2"
      },
      "outputs": [
        {
          "output_type": "stream",
          "name": "stdout",
          "text": [
            "78.5\n"
          ]
        }
      ],
      "source": [
        "from abc import ABC, abstractmethod\n",
        "\n",
        "class Shape(ABC):  # Abstract *Model*\n",
        "    @abstractmethod\n",
        "    def area(self):  # Abstract *Method*\n",
        "        pass\n",
        "\n",
        "class Circle(Shape):  # Subclass *Model*\n",
        "    def __init__(self, radius):\n",
        "        self.radius = radius  # *Property*\n",
        "\n",
        "    def area(self):  # Implementing *Method*\n",
        "        return 3.14 * self.radius ** 2\n",
        "\n",
        "circle = Circle(5)\n",
        "print(circle.area())"
      ],
      "id": "Njz6ElLin81V"
    },
    {
      "cell_type": "markdown",
      "metadata": {
        "id": "WfaOy-dQn81W"
      },
      "source": [
        "#### 3. **Inheritance**\n",
        "Inheritance allows a *Class* to inherit *Properties* and *Methods* from another *Class*. This promotes code reuse and reduces redundancy.\n"
      ],
      "id": "WfaOy-dQn81W"
    },
    {
      "cell_type": "code",
      "execution_count": null,
      "metadata": {
        "colab": {
          "base_uri": "https://localhost:8080/"
        },
        "id": "1Xy1MnN2n81W",
        "outputId": "78acbe91-dd6a-479a-935b-31a30c6e7b09"
      },
      "outputs": [
        {
          "output_type": "stream",
          "name": "stdout",
          "text": [
            "Buddy says Woof!\n",
            "Whiskers says Meow!\n"
          ]
        }
      ],
      "source": [
        "# Parent Class\n",
        "class Animal:\n",
        "    def __init__(self, name):\n",
        "        self.name = name\n",
        "\n",
        "    def speak(self):\n",
        "        raise NotImplementedError(\"Subclasses must implement this method.\")\n",
        "\n",
        "# Sub-class\n",
        "class Dog(Animal):\n",
        "    def speak(self):\n",
        "        return f\"{self.name} says Woof!\"\n",
        "\n",
        "class Cat(Animal):\n",
        "    def speak(self):\n",
        "        return f\"{self.name} says Meow!\"\n",
        "\n",
        "# Using the inheritance structure:\n",
        "dog = Dog(\"Buddy\")\n",
        "cat = Cat(\"Whiskers\")\n",
        "print(dog.speak())\n",
        "print(cat.speak())\n"
      ],
      "id": "1Xy1MnN2n81W"
    },
    {
      "cell_type": "markdown",
      "metadata": {
        "id": "ElfI2x8Rn81W"
      },
      "source": [
        "#### 4. **Polymorphism**\n",
        "Polymorphism allows a *Method* to behave differently based on the *Object*'s type. It includes **Run-Time** (method overriding) and **Compile-Time** (method overloading).\n",
        "\n",
        "- **Run-Time Polymorphism**: The type of *Object* determines which *Method* to invoke.\n",
        "- **Compile-Time Polymorphism**: Uses a single *Method* with default arguments to handle varying numbers of parameters (similar to traditional overloading)."
      ],
      "id": "ElfI2x8Rn81W"
    },
    {
      "cell_type": "code",
      "execution_count": null,
      "metadata": {
        "colab": {
          "base_uri": "https://localhost:8080/"
        },
        "id": "tPo0qlWfn81W",
        "outputId": "66332e0a-3a7d-4961-e7d8-1bb4074027b6"
      },
      "outputs": [
        {
          "output_type": "stream",
          "name": "stdout",
          "text": [
            "I'm Charlie, a student with ID: S123\n",
            "I'm Dave, a Math teacher.\n"
          ]
        }
      ],
      "source": [
        "class Student(Person):\n",
        "    def __init__(self, name, age, gender, student_id):\n",
        "        super().__init__(name, age, gender)\n",
        "        self.student_id = student_id  # *Property*\n",
        "\n",
        "    def introduce(self):  # Unique *Method*\n",
        "        print(f\"I'm {self.get_name()}, a student with ID: {self.student_id}\")\n",
        "\n",
        "class Teacher(Person):\n",
        "    def __init__(self, name, age, gender, subject):\n",
        "        super().__init__(name, age, gender)\n",
        "        self.subject = subject  # *Property*\n",
        "\n",
        "    def introduce(self):  # Unique *Method*\n",
        "        print(f\"I'm {self.get_name()}, a {self.subject} teacher.\")\n",
        "\n",
        "def person_introduction(obj):  # Common interface\n",
        "    obj.introduce()\n",
        "\n",
        "# Create *Objects*\n",
        "student1 = Student(\"Charlie\", 20, \"Female\", \"S123\")\n",
        "teacher1 = Teacher(\"Dave\", 45, \"Male\", \"Math\")\n",
        "person_introduction(student1)  # Output: I'm Charlie, a student...\n",
        "person_introduction(teacher1)  # Output: I'm Dave, a Math teacher..."
      ],
      "id": "tPo0qlWfn81W"
    },
    {
      "cell_type": "markdown",
      "metadata": {
        "id": "fW3raqEin81W"
      },
      "source": [
        "### **Summary of the Four Pillars**\n",
        "| Pillar         | Description                                                                 | Example                                                                 |\n",
        "|-----------------|-----------------------------------------------------------------------------|-------------------------------------------------------------------------|\n",
        "| **Encapsulation** | Bundles data and restricts access using private/protected modifiers.     | `Person` class with `__name` and `_age`.                               |\n",
        "| **Abstraction**   | Hides complexity via abstract classes/methods.                           | Abstract `Shape` class with `area()` method.                           |\n",
        "| **Inheritance**   | Reuses code through parent-child relationships.                          | `Employee` inheriting from `Person`.                                   |\n",
        "| **Polymorphism**  | Same method behaves differently across objects.                          | `introduce()` in `Student` and `Teacher`.                              |"
      ],
      "id": "fW3raqEin81W"
    }
  ]
}